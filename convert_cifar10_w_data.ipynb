{
 "cells": [
  {
   "cell_type": "code",
   "execution_count": null,
   "metadata": {},
   "outputs": [],
   "source": [
    "import os\n",
    "import torch\n",
    "from torchvision.datasets import ImageFolder\n",
    "from torchvision.transforms import ToTensor, Compose, Resize, ToPILImage\n",
    "from PIL import Image\n",
    "import numpy as np\n",
    "\n",
    "def convert_to_tensor_dataset(root_dir, output_path, img_size=(32, 32)):\n",
    "    transform = Compose([Resize(img_size), ToTensor()])\n",
    "\n",
    "    dataset = ImageFolder(root=root_dir, transform=transform)\n",
    "    data = []\n",
    "    labels = []\n",
    "\n",
    "    for img, label in dataset:\n",
    "        data.append(img.numpy())\n",
    "        labels.append(label)\n",
    "\n",
    "    data = torch.tensor(np.stack(data))\n",
    "    labels = torch.tensor(labels)\n",
    "    torch.save({'data': data, 'labels': labels}, output_path)\n",
    "    print(f\"Datasets saved at {output_path}, including {len(data)} images.\")\n",
    "\n",
    "class CIFAR10WDataset(torch.utils.data.Dataset):\n",
    "    def __init__(self, data_path, transform=None):\n",
    "        super().__init__()\n",
    "        dataset = torch.load(data_path)\n",
    "        self.data = dataset['data']\n",
    "        self.labels = dataset['labels']\n",
    "        self.transform = transform\n",
    "\n",
    "    def __len__(self):\n",
    "        return len(self.data)\n",
    "\n",
    "    def __getitem__(self, idx):\n",
    "        img, label = self.data[idx], self.labels[idx]\n",
    "        img = ToPILImage()(img)\n",
    "        if self.transform:\n",
    "            img = self.transform(img)\n",
    "        return img, label"
   ]
  },
  {
   "cell_type": "code",
   "execution_count": null,
   "metadata": {},
   "outputs": [],
   "source": [
    "root_dir = \"datasets/cifar10_w/data_360_cartoon_original/360-CT-01\"\n",
    "output_path = \"datasets/cifar10_w/data_360_cartoon_original/360_CT_01.pt\"\n",
    "convert_to_tensor_dataset(root_dir, output_path)"
   ]
  },
  {
   "cell_type": "code",
   "execution_count": 22,
   "metadata": {},
   "outputs": [
    {
     "name": "stderr",
     "output_type": "stream",
     "text": [
      "/tmp/ipykernel_3302809/2415656682.py:27: FutureWarning: You are using `torch.load` with `weights_only=False` (the current default value), which uses the default pickle module implicitly. It is possible to construct malicious pickle data which will execute arbitrary code during unpickling (See https://github.com/pytorch/pytorch/blob/main/SECURITY.md#untrusted-models for more details). In a future release, the default value for `weights_only` will be flipped to `True`. This limits the functions that could be executed during unpickling. Arbitrary objects will no longer be allowed to be loaded via this mode unless they are explicitly allowlisted by the user via `torch.serialization.add_safe_globals`. We recommend you start setting `weights_only=True` for any use case where you don't have full control of the loaded file. Please open an issue on GitHub for any issues related to this experimental feature.\n",
      "  dataset = torch.load(data_path)\n"
     ]
    }
   ],
   "source": [
    "test_transform = Compose([Resize((32, 32)), ToTensor()])\n",
    "dataset = CIFAR10WDataset(output_path, test_transform)"
   ]
  },
  {
   "cell_type": "code",
   "execution_count": 24,
   "metadata": {},
   "outputs": [
    {
     "data": {
      "text/plain": [
       "<matplotlib.image.AxesImage at 0x7ad5f3db7a90>"
      ]
     },
     "execution_count": 24,
     "metadata": {},
     "output_type": "execute_result"
    },
    {
     "data": {
      "image/png": "[encoded data removed]",
      "text/plain": [
       "<Figure size 640x480 with 1 Axes>"
      ]
     },
     "metadata": {},
     "output_type": "display_data"
    }
   ],
   "source": [
    "import matplotlib.pyplot as plt\n",
    "\n",
    "plt.imshow(dataset[0][0].permute(1, 2, 0))"
   ]
  }
 ],
 "metadata": {
  "kernelspec": {
   "display_name": "default",
   "language": "python",
   "name": "python3"
  },
  "language_info": {
   "codemirror_mode": {
    "name": "ipython",
    "version": 3
   },
   "file_extension": ".py",
   "mimetype": "text/x-python",
   "name": "python",
   "nbconvert_exporter": "python",
   "pygments_lexer": "ipython3",
   "version": "3.11.5"
  }
 },
 "nbformat": 4,
 "nbformat_minor": 2
}
