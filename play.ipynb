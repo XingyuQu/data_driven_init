{
 "cells": [
  {
   "cell_type": "code",
   "execution_count": 1,
   "metadata": {},
   "outputs": [],
   "source": [
    "import torch\n",
    "from Models import modelpool\n",
    "from Preprocess import datapool\n",
    "from torch import nn\n",
    "from spiking_layer_ours import SPIKE_layer\n",
    "import numpy as np\n",
    "from copy import deepcopy\n",
    "from utils_my import add_dimension\n",
    "from utils_my import replace_maxpool2d_by_avgpool2d, replace_layer_by_tdlayer\n",
    "from slerp import slerp\n",
    "from collections import OrderedDict\n",
    "import matplotlib.pyplot as plt\n",
    "\n",
    "def isActivation(name):\n",
    "    if 'relu' in name.lower():\n",
    "        return True\n",
    "    return False\n",
    "\n",
    "def replace_activation_by_spike(model, thresholds, thresholds1, n_steps, counter=0):\n",
    "    thresholds_new = deepcopy(thresholds)\n",
    "    thresholds_new1 = deepcopy(thresholds1)\n",
    "    \n",
    "    for name, module in model._modules.items():\n",
    "        if hasattr(module,\"_modules\"):\n",
    "            model._modules[name], counter, thresholds_new = replace_activation_by_spike(module, thresholds_new, thresholds_new1, n_steps, counter)\n",
    "        if isActivation(module.__class__.__name__.lower()):\n",
    "            thresholds_new[counter, n_steps:] = thresholds_new1[counter, 1] / n_steps  # thresholds_out_sum/n_steps# thresholds1[counter,1] / n_steps\n",
    "            thresholds_new[counter, :n_steps] = thresholds_new1[counter, 0] / n_steps  # thresholds_inner_sum/n_steps#thresholds1[counter,0] / n_steps\n",
    "            model._modules[name] = SPIKE_layer(thresholds_new[counter, n_steps:], thresholds_new[counter, 0:n_steps])\n",
    "            counter += 1\n",
    "    return model, counter, thresholds_new\n",
    "\n",
    "\n",
    "def interpolate_state_dicts(state_dict_1, state_dict_2, weight,\n",
    "                            bias_norm=False, use_slerp=False):\n",
    "    if use_slerp:\n",
    "        model_state = deepcopy(state_dict_1)\n",
    "        for p_name in model_state:\n",
    "            if \"batches\" not in p_name:\n",
    "                model_state[p_name] = slerp(weight, state_dict_1[p_name], state_dict_2[p_name])\n",
    "        return model_state\n",
    "    elif bias_norm:\n",
    "        model_state = deepcopy(state_dict_1)\n",
    "        height = 0\n",
    "        for p_name in model_state:\n",
    "            if \"batches\" not in p_name:\n",
    "                model_state[p_name].zero_()\n",
    "                if \"weight\" in p_name:\n",
    "                    model_state[p_name].add_(1.0 - weight, state_dict_1[p_name])\n",
    "                    model_state[p_name].add_(weight, state_dict_2[p_name])\n",
    "                    height += 1\n",
    "                if \"bias\" in p_name:\n",
    "                    model_state[p_name].add_((1.0 - weight)**height, state_dict_1[p_name])\n",
    "                    model_state[p_name].add_(weight**height, state_dict_2[p_name])\n",
    "                if \"res_scale\" in p_name:\n",
    "                    model_state[p_name].add_(1.0 - weight, state_dict_1[p_name])\n",
    "                    model_state[p_name].add_(weight, state_dict_2[p_name])\n",
    "        return model_state\n",
    "    else:\n",
    "        return {key: (1 - weight) * state_dict_1[key] + \n",
    "                weight * state_dict_2[key] for key in state_dict_1.keys()}\n",
    "        \n",
    "\n",
    "def interpolate_multi_state_dicts(sd_s, weight_s, use_slerp=False):\n",
    "    if use_slerp:\n",
    "        sd_interpolated = deepcopy(sd_s[0])\n",
    "        weight_interpolated = weight_s[0]\n",
    "        for i in range(1, len(sd_s)):\n",
    "            sd_next = sd_s[i]\n",
    "            weight_next = weight_s[i]\n",
    "            t = weight_next / (weight_interpolated + weight_next)\n",
    "            sd_interpolated = interpolate_state_dicts(sd_interpolated, sd_next, t, use_slerp=use_slerp)\n",
    "            weight_interpolated += weight_next\n",
    "        return sd_interpolated\n",
    "    else:\n",
    "        sd_interpolated = deepcopy(sd_s[0])\n",
    "        for key in sd_s[0].keys():\n",
    "            sd_interpolated[key] = weight_s[0] * sd_s[0][key]\n",
    "            for i in range(1, len(sd_s)):\n",
    "                sd_interpolated[key] += weight_s[i] * sd_s[i][key]\n",
    "        return sd_interpolated\n",
    "    \n",
    "\n",
    "def validate_snn(model, loader, n_steps, device, verbose=1, use_double=False):\n",
    "    device_old = get_device(model)\n",
    "    model.to(device)\n",
    "    model.eval()\n",
    "    total = 0\n",
    "    correct = 0\n",
    "    for data, target in loader:\n",
    "        data = add_dimension(data, n_steps)\n",
    "        data, target = data.to(device), target.to(device)\n",
    "        if use_double:\n",
    "            data = data.double()\n",
    "        output = model(data, L=0, t=n_steps)\n",
    "        output = torch.mean(output, dim=1)\n",
    "        total += target.size(0)\n",
    "        correct += (output.argmax(1) == target).sum().item()\n",
    "    if verbose != 0:\n",
    "        print('Accuracy of the network on the test images: %f' % (100 * correct / total))\n",
    "    acc = 100 * correct / total\n",
    "    model.to(device_old)\n",
    "    return acc\n",
    "\n",
    "def validate_snn_ensemble(models, loader, n_steps, device, verbose=1):\n",
    "    device_old = get_device(models[0])\n",
    "    for model in models:\n",
    "        model.to(device)\n",
    "        model.eval()\n",
    "    total = 0\n",
    "    correct = 0\n",
    "    for data, target in loader:\n",
    "        data = add_dimension(data, n_steps)\n",
    "        data, target = data.to(device), target.to(device)\n",
    "        output = torch.zeros(data.size(0), 10).to(device)\n",
    "        for model in models:\n",
    "            output += torch.mean(model(data, L=0, t=n_steps), dim=1)\n",
    "        total += target.size(0)\n",
    "        correct += (output.argmax(1) == target).sum().item()\n",
    "    if verbose != 0:\n",
    "        print('Accuracy of the network on the test images: %f' % (100 * correct / total))\n",
    "    acc = 100 * correct / total\n",
    "    for model in models:\n",
    "        model.to(device_old)\n",
    "    return acc\n",
    "    \n",
    "def validate_ann(model, loader, device, verbose=1, use_double=False):\n",
    "    device_old = get_device(model)\n",
    "    model.to(device)\n",
    "    model.eval()\n",
    "    total = 0\n",
    "    correct = 0\n",
    "    for data, target in loader:\n",
    "        data, target = data.to(device), target.to(device)\n",
    "        if use_double:\n",
    "            data = data.double()\n",
    "        output = model(data)\n",
    "        total += target.size(0)\n",
    "        correct += (output.argmax(1) == target).sum().item()\n",
    "    if verbose != 0:\n",
    "        print('Accuracy of the network on the test images: %f' % (100 * correct / total))\n",
    "    acc = 100 * correct / total\n",
    "    model.to(device_old)\n",
    "    return acc\n",
    "\n",
    "\n",
    "def ann_to_snn(model, thresholds, thresholds1, n_steps):\n",
    "    model, counter, thresholds_new = replace_activation_by_spike(model, thresholds, thresholds1, n_steps)\n",
    "    model = replace_maxpool2d_by_avgpool2d(model)\n",
    "    model = replace_layer_by_tdlayer(model)\n",
    "    return model, thresholds_new\n",
    "\n",
    "def snn_to_ann(model, use_maxpooling=True):\n",
    "    new_model = deepcopy(model)\n",
    "    for name, module in new_model._modules.items():\n",
    "        if hasattr(module, \"_modules\"):\n",
    "            new_model._modules[name] = snn_to_ann(module)\n",
    "        if module.__class__.__name__ == 'SPIKE_layer':\n",
    "            new_model._modules[name] = nn.ReLU()\n",
    "        elif module.__class__.__name__ == 'tdLayer':\n",
    "            if use_maxpooling and isinstance(module.layer.module, nn.AvgPool2d):\n",
    "                module.layer.module = nn.MaxPool2d(kernel_size=module.layer.module.kernel_size,\n",
    "                                                stride=module.layer.module.stride,\n",
    "                                                padding=module.layer.module.padding)\n",
    "            new_model._modules[name] = module.layer.module\n",
    "        elif module.__class__.__name__ == 'Flatten':\n",
    "            new_model._modules[name] = nn.Flatten()\n",
    "    return new_model\n",
    "\n",
    "def tranfer_bn_stats_from_ann_to_snn(ann_model, snn_model):\n",
    "    new_snn_model = deepcopy(snn_model)\n",
    "    ann_bn_layer_names = [name for name, layer in ann_model.named_modules() if isinstance(layer, (nn.BatchNorm2d))]\n",
    "    snn_bn_layer_names = [name for name, layer in new_snn_model.named_modules() if isinstance(layer, (nn.BatchNorm2d))]\n",
    "    for ann_bn_name, snn_bn_name in zip(ann_bn_layer_names, snn_bn_layer_names):\n",
    "        ann_bn_layer = dict(ann_model.named_modules())[ann_bn_name]\n",
    "        snn_bn_layer = dict(new_snn_model.named_modules())[snn_bn_name]\n",
    "        snn_bn_layer.running_mean = ann_bn_layer.running_mean\n",
    "        snn_bn_layer.running_var = ann_bn_layer.running_var\n",
    "        snn_bn_layer.num_batches_tracked = ann_bn_layer.num_batches_tracked\n",
    "    return new_snn_model\n",
    "\n",
    "\n",
    "def bn_calibration_init(m):\n",
    "    \"\"\" calculating post-statistics of batch normalization \"\"\"\n",
    "    if getattr(m, 'track_running_stats', False):\n",
    "        # reset all values for post-statistics\n",
    "        m.reset_running_stats()\n",
    "        # set bn in training mode to update post-statistics\n",
    "        m.training = True\n",
    "        # use cumulative moving average\n",
    "        m.momentum = None\n",
    "\n",
    "def reset_bn_stats(model, device, bn_loader, n_steps, layerwise=False, ann=False, use_double=False):\n",
    "    # Reset batch norm statistics\n",
    "    model.to(device)\n",
    "    # get batchnorm layer names\n",
    "    bn_layer_names = [name for name, layer in model.named_modules() if isinstance(layer, (nn.BatchNorm2d))]\n",
    "    for m in model.modules():\n",
    "        bn_calibration_init(m)\n",
    "    model.train()\n",
    "    with torch.no_grad():\n",
    "        L_range = range(1, 14) if layerwise else [0]\n",
    "        for L in L_range:\n",
    "            for data, _ in bn_loader:\n",
    "                if not ann:\n",
    "                    data = add_dimension(data, n_steps)\n",
    "                data = data.to(device)\n",
    "                if use_double:\n",
    "                    data = data.double()\n",
    "                model(data, L=L, t=n_steps)\n",
    "            # set current bn layer in eval mode\n",
    "            if layerwise:\n",
    "                layer = dict(model.named_modules())[bn_layer_names[L-1]]\n",
    "                layer.eval()\n",
    "    model.eval()\n",
    "    model.to('cpu')\n",
    "\n",
    "def get_device(item):\n",
    "    if isinstance(item, nn.Module):\n",
    "        return next(item.parameters()).device\n",
    "    elif isinstance(item, OrderedDict):\n",
    "        return next(iter(item.values())).device"
   ]
  },
  {
   "cell_type": "code",
   "execution_count": 2,
   "metadata": {},
   "outputs": [
    {
     "name": "stdout",
     "output_type": "stream",
     "text": [
      "Files already downloaded and verified\n"
     ]
    },
    {
     "name": "stdout",
     "output_type": "stream",
     "text": [
      "Files already downloaded and verified\n"
     ]
    }
   ],
   "source": [
    "class args:\n",
    "    model = 'vgg16'\n",
    "    dataset = 'cifar10'\n",
    "    batch_size = 128\n",
    "    t = 1\n",
    "device = torch.device('cuda:1')\n",
    "criterion = nn.CrossEntropyLoss()\n",
    "n_steps = args.t\n",
    "train_loader, test_loader = datapool(args.dataset, args.batch_size, 0, shuffle=True)"
   ]
  },
  {
   "cell_type": "code",
   "execution_count": 3,
   "metadata": {},
   "outputs": [],
   "source": [
    "v_idx_s = list(range(2, 16)) + list(range(22, 37))\n",
    "# v_idx_s = [2]\n",
    "num_models = len(v_idx_s) + 1"
   ]
  },
  {
   "cell_type": "code",
   "execution_count": 4,
   "metadata": {},
   "outputs": [],
   "source": [
    "model_s = [modelpool(args.model, args.dataset) for _ in range(num_models)]\n",
    "ckpt_model_idx = 3\n",
    "sd = torch.load(f'saved_models/cifar10_vgg16_{ckpt_model_idx}.pth', map_location='cpu', weights_only=True)\n",
    "for model in model_s:\n",
    "    model.load_state_dict(sd)\n",
    "\n",
    "num_relu = str(model_s[0]).count('ReLU')\n",
    "prefix = 'cifar10_vgg16_3_lr_1e3/'\n",
    "thresholds = torch.zeros(num_relu, 2*n_steps)\n",
    "thresholds1 = torch.Tensor(np.load(f'{prefix}cifar10_vgg16_{ckpt_model_idx}_threshold_all_noaug{n_steps}.npy'))"
   ]
  },
  {
   "cell_type": "code",
   "execution_count": 5,
   "metadata": {},
   "outputs": [
    {
     "name": "stdout",
     "output_type": "stream",
     "text": [
      "Accuracy of the network on the test images: 95.880000\n"
     ]
    },
    {
     "data": {
      "text/plain": [
       "95.88"
      ]
     },
     "execution_count": 5,
     "metadata": {},
     "output_type": "execute_result"
    }
   ],
   "source": [
    "validate_ann(model_s[0], test_loader, device)"
   ]
  },
  {
   "cell_type": "code",
   "execution_count": 6,
   "metadata": {},
   "outputs": [],
   "source": [
    "model_s = [ann_to_snn(model, thresholds, thresholds1, n_steps) for model in model_s]\n",
    "threshold_new = model_s[0][1]\n",
    "model_s = [pair[0] for pair in model_s]\n",
    "\n",
    "snn_init = modelpool(args.model, args.dataset)\n",
    "ann_sd = torch.load(f'saved_models/cifar10_vgg16_{ckpt_model_idx}.pth', map_location='cpu', weights_only=True)\n",
    "snn_init.load_state_dict(ann_sd)\n",
    "snn_init = ann_to_snn(snn_init, thresholds, thresholds1, n_steps)[0]"
   ]
  },
  {
   "cell_type": "code",
   "execution_count": 7,
   "metadata": {},
   "outputs": [
    {
     "name": "stdout",
     "output_type": "stream",
     "text": [
      "Accuracy of the network on the test images: 45.690000\n"
     ]
    },
    {
     "data": {
      "text/plain": [
       "45.69"
      ]
     },
     "execution_count": 7,
     "metadata": {},
     "output_type": "execute_result"
    }
   ],
   "source": [
    "validate_snn(model_s[0], test_loader, n_steps, device, use_double=False)"
   ]
  },
  {
   "cell_type": "code",
   "execution_count": 23,
   "metadata": {},
   "outputs": [
    {
     "name": "stderr",
     "output_type": "stream",
     "text": [
      "/tmp/ipykernel_3269604/1185012893.py:2: FutureWarning: You are using `torch.load` with `weights_only=False` (the current default value), which uses the default pickle module implicitly. It is possible to construct malicious pickle data which will execute arbitrary code during unpickling (See https://github.com/pytorch/pytorch/blob/main/SECURITY.md#untrusted-models for more details). In a future release, the default value for `weights_only` will be flipped to `True`. This limits the functions that could be executed during unpickling. Arbitrary objects will no longer be allowed to be loaded via this mode unless they are explicitly allowlisted by the user via `torch.serialization.add_safe_globals`. We recommend you start setting `weights_only=True` for any use case where you don't have full control of the loaded file. Please open an issue on GitHub for any issues related to this experimental feature.\n",
      "  model_s[0].load_state_dict(torch.load(f'cifar10_vgg16_3_updated_snn1_1_v6.pth', map_location='cpu'))\n"
     ]
    },
    {
     "name": "stdout",
     "output_type": "stream",
     "text": [
      "Accuracy of the network on the test images: 92.570000\n"
     ]
    },
    {
     "data": {
      "text/plain": [
       "92.57"
      ]
     },
     "execution_count": 23,
     "metadata": {},
     "output_type": "execute_result"
    }
   ],
   "source": [
    "# for case study\n",
    "model_s[0].load_state_dict(torch.load(f'cifar10_vgg16_3_updated_snn1_1_v6.pth', map_location='cpu'))\n",
    "validate_snn(model_s[0], test_loader, n_steps, device)"
   ]
  },
  {
   "cell_type": "code",
   "execution_count": 9,
   "metadata": {},
   "outputs": [],
   "source": [
    "# model_s = [ann_to_snn(model, thresholds, thresholds1, n_steps) for model in model_s]\n",
    "sd_s = [torch.load(f'{prefix}cifar10_vgg16_{ckpt_model_idx}_updated_snn1_1.pth', weights_only=True, map_location='cpu')] + \\\n",
    "        [torch.load(f'{prefix}cifar10_vgg16_{ckpt_model_idx}_updated_snn1_1_v{v}.pth', weights_only=True, map_location='cpu') for v in v_idx_s]\n",
    "for model, sd in zip(model_s, sd_s):\n",
    "    model.load_state_dict(sd)"
   ]
  },
  {
   "cell_type": "code",
   "execution_count": 10,
   "metadata": {},
   "outputs": [],
   "source": [
    "# acc_s = [validate_snn(model, test_loader, n_steps, device, use_double=True) for model in model_s]\n",
    "# acc_ensemble = validate_snn_ensemble(model_s, test_loader, n_steps, device,)\n",
    "# print(acc_s, acc_ensemble)"
   ]
  },
  {
   "cell_type": "code",
   "execution_count": 11,
   "metadata": {},
   "outputs": [],
   "source": [
    "# reset_bn_stats(model_s[0], device, train_loader, n_steps, layerwise=False, ann=False)\n",
    "# validate_snn(model_s[0], test_loader, n_steps, thresholds, device)"
   ]
  },
  {
   "cell_type": "code",
   "execution_count": 12,
   "metadata": {},
   "outputs": [
    {
     "name": "stdout",
     "output_type": "stream",
     "text": [
      "[92.44 92.42 92.39 92.09 92.4  92.09 92.18 92.13 92.38 92.3  92.43 92.61\n",
      " 92.42 92.17 92.46 92.42 92.27 92.47 92.47 92.33 92.37 92.2  92.25 92.25\n",
      " 92.38 92.25 92.12 92.4  92.51 92.23] 94.36\n"
     ]
    }
   ],
   "source": [
    "# acc_list = np.array(acc_s + [acc_ensemble])\n",
    "# np.save('cifar10_vgg16_3_ft_acc_list.npy', acc_list)\n",
    "\n",
    "acc_list = np.load('cifar10_vgg16_3_ft_acc_list.npy')\n",
    "acc_s = acc_list[:-1]\n",
    "acc_ensemble = acc_list[-1]\n",
    "print(acc_s, acc_ensemble)"
   ]
  },
  {
   "cell_type": "code",
   "execution_count": 44,
   "metadata": {},
   "outputs": [],
   "source": [
    "# for key in sd_s[0]:\n",
    "#     if \"batch\" in key:\n",
    "#         continue\n",
    "#     plt.plot(sd_s[0][key].flatten(), label=0)\n",
    "#     plt.plot(sd_s[1][key].flatten(), label=1)\n",
    "#     plt.title(key)\n",
    "#     plt.legend()\n",
    "#     save_name = key.replace('.', '_')\n",
    "#     plt.savefig(f'compare_cifar10_vgg16_ft_parameters/{save_name}.pdf')\n",
    "#     plt.show()"
   ]
  },
  {
   "cell_type": "code",
   "execution_count": null,
   "metadata": {},
   "outputs": [
    {
     "name": "stdout",
     "output_type": "stream",
     "text": [
      "Accuracy of the network on the test images: 92.440000\n"
     ]
    },
    {
     "data": {
      "text/plain": [
       "92.44"
      ]
     },
     "execution_count": 13,
     "metadata": {},
     "output_type": "execute_result"
    }
   ],
   "source": [
    "model_tmp = deepcopy(model_s[0])\n",
    "validate_snn(model_tmp, test_loader, n_steps, device, use_double=False)"
   ]
  },
  {
   "cell_type": "markdown",
   "metadata": {},
   "source": [
    "#### fuse bn and merging"
   ]
  },
  {
   "cell_type": "markdown",
   "metadata": {},
   "source": [
    "##### precision issue"
   ]
  },
  {
   "cell_type": "code",
   "execution_count": 22,
   "metadata": {},
   "outputs": [],
   "source": [
    "class PassThrough(nn.Module):\n",
    "    def forward(self, x):\n",
    "        return x\n",
    "    \n",
    "def fuse_conv_bn(conv, bn, device=None, use_double=False, final_double=False):\n",
    "    fused_conv = deepcopy(conv).to(device)\n",
    "    dtype = torch.float64 if use_double else torch.float32\n",
    "    # set weights\n",
    "    w_conv = conv.weight.clone().to(dtype)\n",
    "    bn_std = (bn.eps + bn.running_var.to(dtype)).sqrt()\n",
    "    gamma = bn.weight.to(dtype) / bn_std.to(dtype)\n",
    "    fused_conv.weight.data = (w_conv.to(dtype) * gamma.reshape(-1, 1, 1, 1))\n",
    "\n",
    "    # set bias\n",
    "    beta = bn.bias.to(dtype) + gamma * (-bn.running_mean.to(dtype) + conv.bias.to(dtype))\n",
    "    fused_conv.bias.data = beta\n",
    "    \n",
    "    final_dtype = torch.float64 if final_double else torch.float32\n",
    "    fused_conv.weight.data = fused_conv.weight.data.to(final_dtype)\n",
    "    fused_conv.bias.data = fused_conv.bias.data.to(final_dtype)\n",
    "\n",
    "    return fused_conv\n",
    "\n",
    "def fuse_snn_vgg16(model, use_double=False, final_double=False):\n",
    "    fuse_device = get_device(model)\n",
    "    conv_layer = None\n",
    "    bn_layer = None\n",
    "    for block_idx in range(1, 6):\n",
    "        block = getattr(model, f'layer{block_idx}')\n",
    "        for td_idx, td_layer in enumerate(block):\n",
    "            if not hasattr(td_layer, 'layer'):\n",
    "                continue\n",
    "            if isinstance(td_layer.layer.module, nn.Conv2d):\n",
    "                conv_td_layer = td_layer\n",
    "            elif isinstance(td_layer.layer.module, nn.BatchNorm2d):\n",
    "                bn_layer = td_layer.layer.module\n",
    "                conv_layer = conv_td_layer.layer.module\n",
    "                conv_td_layer.layer.module = fuse_conv_bn(conv_layer, bn_layer, fuse_device, use_double, final_double)\n",
    "                block[td_idx] = PassThrough()"
   ]
  },
  {
   "cell_type": "code",
   "execution_count": 22,
   "metadata": {},
   "outputs": [
    {
     "name": "stdout",
     "output_type": "stream",
     "text": [
      "Accuracy of the network on the test images: 92.300000\n",
      "Accuracy of the network on the test images: 95.880000\n"
     ]
    }
   ],
   "source": [
    "# fuse snn model\n",
    "model_tmp = deepcopy(model_s[0])\n",
    "validate_snn(model_tmp, test_loader, n_steps, thresholds, device)\n",
    "fuse_device = get_device(model_tmp)\n",
    "conv_layer = None\n",
    "bn_layer = None\n",
    "fuse_snn_vgg16(model_tmp)\n",
    "\n",
    "# fuse ann model\n",
    "ann_model = modelpool(args.model, args.dataset)\n",
    "ann_sd = torch.load(f'saved_models/cifar10_vgg16_{ckpt_model_idx}.pth', map_location='cpu', weights_only=True)\n",
    "ann_model.load_state_dict(ann_sd)\n",
    "validate_ann(ann_model, test_loader, device)\n",
    "fuse_device = get_device(ann_model)\n",
    "conv_layer = None\n",
    "bn_layer = None\n",
    "for block_idx in range(1, 6):\n",
    "    block = getattr(ann_model, f'layer{block_idx}')\n",
    "    for layer_idx, layer in enumerate(block):\n",
    "        if isinstance(layer, nn.Conv2d):\n",
    "            conv_layer = layer\n",
    "            conv_idx = layer_idx\n",
    "        elif isinstance(layer, nn.BatchNorm2d):\n",
    "            bn_layer = layer\n",
    "            block[conv_idx] = fuse_conv_bn(conv_layer, bn_layer, fuse_device)\n",
    "            block[layer_idx] = PassThrough()\n"
   ]
  },
  {
   "cell_type": "code",
   "execution_count": 14,
   "metadata": {},
   "outputs": [
    {
     "name": "stdout",
     "output_type": "stream",
     "text": [
      "Accuracy of the network on the test images: 92.300000\n",
      "Accuracy of the network on the test images: 95.870000\n"
     ]
    },
    {
     "data": {
      "text/plain": [
       "95.87"
      ]
     },
     "execution_count": 14,
     "metadata": {},
     "output_type": "execute_result"
    }
   ],
   "source": [
    "model_tmp.double()\n",
    "ann_model.double()\n",
    "validate_snn(model_tmp, test_loader, n_steps, thresholds, device, use_double=True)\n",
    "validate_ann(ann_model, test_loader, device, use_double=True)"
   ]
  },
  {
   "cell_type": "markdown",
   "metadata": {},
   "source": [
    "##### merge after fusing BN"
   ]
  },
  {
   "cell_type": "code",
   "execution_count": 53,
   "metadata": {},
   "outputs": [
    {
     "data": {
      "text/plain": [
       "tensor([[[[[-6.0371e-01, -6.1139e-01, -5.8763e-01,  ..., -7.4548e-01,\n",
       "            -7.8057e-01, -7.9504e-01],\n",
       "           [-5.0592e-01, -5.1679e-01, -5.2391e-01,  ..., -4.6568e-01,\n",
       "            -4.4937e-01, -4.4745e-01],\n",
       "           [-5.0768e-01, -5.0007e-01, -5.2174e-01,  ..., -4.3049e-01,\n",
       "            -4.1836e-01, -4.5635e-01],\n",
       "           ...,\n",
       "           [-3.5597e-01, -3.9657e-01, -4.3361e-01,  ..., -3.6981e-01,\n",
       "            -3.7273e-01, -4.3499e-01],\n",
       "           [-5.0700e-01, -4.4861e-01, -4.3049e-01,  ..., -4.8656e-01,\n",
       "            -3.3778e-01, -4.7862e-01],\n",
       "           [-5.3528e-01, -4.8143e-01, -4.5641e-01,  ..., -5.2816e-01,\n",
       "            -4.5153e-01, -4.2362e-01]],\n",
       "\n",
       "          [[-5.0390e-02, -4.5180e-03,  8.4499e-03,  ..., -1.1765e-01,\n",
       "            -1.5227e-01, -8.7873e-02],\n",
       "           [-6.0549e-02, -2.0782e-02,  1.6535e-02,  ..., -1.3387e-01,\n",
       "            -1.5881e-01, -7.4473e-02],\n",
       "           [-6.6577e-02, -2.7739e-02,  1.7060e-02,  ..., -1.2141e-01,\n",
       "            -1.5474e-01, -8.3130e-02],\n",
       "           ...,\n",
       "           [-4.6398e-01, -4.7980e-01, -4.2230e-01,  ..., -5.5060e-01,\n",
       "            -4.1932e-01, -6.9323e-02],\n",
       "           [-4.4799e-01, -4.7025e-01, -4.1496e-01,  ..., -4.9930e-01,\n",
       "            -4.6786e-01, -1.1602e-01],\n",
       "           [-3.8299e-01, -4.0062e-01, -4.0591e-01,  ..., -4.6720e-01,\n",
       "            -4.7480e-01, -1.8596e-01]],\n",
       "\n",
       "          [[-2.9533e-04, -2.7202e-04, -2.7209e-04,  ..., -2.4791e-04,\n",
       "            -2.4258e-04, -2.3702e-04],\n",
       "           [-3.0368e-04, -2.7209e-04, -2.7132e-04,  ..., -2.3868e-04,\n",
       "            -2.3070e-04, -2.2077e-04],\n",
       "           [-3.0289e-04, -2.6958e-04, -2.6900e-04,  ..., -2.4286e-04,\n",
       "            -2.3480e-04, -2.2265e-04],\n",
       "           ...,\n",
       "           [-2.1789e-04, -2.3600e-04, -2.2231e-04,  ..., -2.2462e-04,\n",
       "            -2.1172e-04, -2.5990e-04],\n",
       "           [-2.2191e-04, -2.3967e-04, -2.2411e-04,  ..., -2.2234e-04,\n",
       "            -2.0658e-04, -2.5958e-04],\n",
       "           [-2.3759e-04, -2.4977e-04, -2.3926e-04,  ..., -2.3448e-04,\n",
       "            -2.2346e-04, -2.6387e-04]],\n",
       "\n",
       "          ...,\n",
       "\n",
       "          [[ 9.3535e-02,  6.1074e-02,  5.9956e-02,  ...,  8.1993e-03,\n",
       "            -1.3015e-02, -1.0608e-01],\n",
       "           [ 1.7157e-01,  1.0575e-01,  7.0911e-02,  ...,  9.0606e-02,\n",
       "             8.6319e-02,  7.2695e-03],\n",
       "           [ 1.7552e-01,  1.1042e-01,  4.5856e-02,  ...,  1.0020e-01,\n",
       "             9.6318e-02, -9.7322e-03],\n",
       "           ...,\n",
       "           [ 1.5929e-01,  1.4091e-01,  8.5884e-02,  ...,  1.6466e-01,\n",
       "             1.1821e-01,  1.8252e-01],\n",
       "           [ 8.2729e-02,  1.2649e-01,  8.6053e-02,  ...,  9.7022e-02,\n",
       "             1.6379e-01,  1.2227e-01],\n",
       "           [ 5.5679e-02,  9.0688e-02,  4.7430e-02,  ...,  6.8542e-03,\n",
       "             1.1779e-02,  8.3051e-02]],\n",
       "\n",
       "          [[ 1.6874e-02,  8.8850e-03,  7.5096e-03,  ...,  1.0206e-02,\n",
       "             8.5048e-03, -2.2204e-02],\n",
       "           [ 1.7772e-02, -6.6929e-03, -1.0225e-02,  ..., -1.1851e-02,\n",
       "            -1.5690e-02, -5.8318e-02],\n",
       "           [ 1.9506e-02, -6.3819e-03, -1.3684e-02,  ..., -1.4547e-02,\n",
       "            -1.7668e-02, -5.8156e-02],\n",
       "           ...,\n",
       "           [-2.4401e-02, -1.9252e-02, -4.0771e-02,  ..., -7.7617e-03,\n",
       "            -4.3390e-02, -7.8775e-02],\n",
       "           [-2.3272e-02, -8.6565e-03, -3.7097e-02,  ..., -9.6565e-03,\n",
       "            -3.5369e-02, -7.6342e-02],\n",
       "           [-2.4012e-02, -2.0479e-02, -3.8134e-02,  ..., -3.3580e-02,\n",
       "            -5.2223e-02, -7.4592e-02]],\n",
       "\n",
       "          [[ 1.9124e-01,  2.0073e-01,  2.1575e-01,  ...,  1.8770e-01,\n",
       "             2.1143e-01,  1.4313e-01],\n",
       "           [ 1.7658e-01,  1.5992e-01,  1.6521e-01,  ...,  1.7080e-01,\n",
       "             1.3774e-01,  1.7278e-01],\n",
       "           [ 1.9545e-01,  1.4197e-01,  1.9439e-01,  ...,  1.8186e-01,\n",
       "             1.6589e-01,  1.4608e-01],\n",
       "           ...,\n",
       "           [ 2.1660e-01,  1.3848e-01,  1.7894e-01,  ...,  3.6978e-01,\n",
       "            -9.2547e-02,  3.4722e-01],\n",
       "           [ 2.4018e-01,  1.5072e-01,  1.0258e-01,  ...,  1.9899e-01,\n",
       "             1.3335e-01,  1.9972e-01],\n",
       "           [ 1.3602e-01,  1.5908e-01,  9.2378e-02,  ...,  1.4223e-04,\n",
       "             1.7951e-01, -2.8638e-01]]]],\n",
       "\n",
       "\n",
       "\n",
       "        [[[[ 2.1083e-01,  3.3081e-01,  3.3154e-01,  ...,  3.3930e-01,\n",
       "             3.3958e-01,  2.3212e-01],\n",
       "           [-6.3690e-01, -7.1389e-01, -7.1589e-01,  ..., -7.1928e-01,\n",
       "            -7.1971e-01, -6.7917e-01],\n",
       "           [-6.6951e-01, -7.5927e-01, -7.5692e-01,  ..., -7.5715e-01,\n",
       "            -7.5800e-01, -7.1224e-01],\n",
       "           ...,\n",
       "           [-4.7653e-01, -4.3402e-01, -2.5065e-01,  ..., -5.4283e-01,\n",
       "            -5.9609e-01, -6.1909e-01],\n",
       "           [-4.6709e-01, -3.5392e-01, -2.1078e-01,  ..., -5.7447e-01,\n",
       "            -6.1519e-01, -6.2647e-01],\n",
       "           [-4.4051e-01, -3.2026e-01, -2.4175e-01,  ..., -5.9380e-01,\n",
       "            -6.0838e-01, -5.9669e-01]],\n",
       "\n",
       "          [[ 2.7684e-01,  1.0196e-01,  1.0866e-01,  ...,  1.1200e-01,\n",
       "             1.0712e-01, -2.5674e-01],\n",
       "           [ 3.5818e-01,  1.0034e-01,  1.0772e-01,  ...,  1.1160e-01,\n",
       "             1.0532e-01, -3.4201e-01],\n",
       "           [ 3.5475e-01,  9.3832e-02,  1.0057e-01,  ...,  1.0691e-01,\n",
       "             1.0051e-01, -3.4603e-01],\n",
       "           ...,\n",
       "           [-4.9118e-01, -5.6972e-01, -5.2608e-01,  ...,  2.3793e-02,\n",
       "             2.3902e-02, -2.7442e-01],\n",
       "           [-4.9797e-01, -5.0538e-01, -4.5429e-01,  ...,  4.1128e-02,\n",
       "             2.5718e-02, -2.7604e-01],\n",
       "           [-4.5979e-01, -4.7479e-01, -4.5102e-01,  ...,  1.1724e-01,\n",
       "             1.3638e-01, -1.5790e-01]],\n",
       "\n",
       "          [[-3.5163e-04, -3.9187e-04, -3.9086e-04,  ..., -3.9171e-04,\n",
       "            -3.9172e-04, -3.5741e-04],\n",
       "           [-3.8645e-04, -4.4453e-04, -4.4309e-04,  ..., -4.4422e-04,\n",
       "            -4.4424e-04, -3.9462e-04],\n",
       "           [-3.8741e-04, -4.4594e-04, -4.4447e-04,  ..., -4.4503e-04,\n",
       "            -4.4517e-04, -3.9537e-04],\n",
       "           ...,\n",
       "           [-2.2915e-04, -1.8392e-04, -1.4146e-04,  ..., -3.5674e-04,\n",
       "            -3.7556e-04, -3.5870e-04],\n",
       "           [-2.3058e-04, -1.9424e-04, -1.6103e-04,  ..., -3.6083e-04,\n",
       "            -3.7715e-04, -3.5895e-04],\n",
       "           [-2.4575e-04, -2.2399e-04, -2.0520e-04,  ..., -3.3749e-04,\n",
       "            -3.4859e-04, -3.3416e-04]],\n",
       "\n",
       "          ...,\n",
       "\n",
       "          [[ 4.0354e-01,  4.3609e-01,  4.3902e-01,  ...,  4.4262e-01,\n",
       "             4.4325e-01,  4.9107e-01],\n",
       "           [ 7.1637e-02,  1.1180e-01,  1.0828e-01,  ...,  1.0785e-01,\n",
       "             1.0830e-01,  1.5785e-01],\n",
       "           [ 5.4405e-02,  8.9637e-02,  8.9067e-02,  ...,  9.2005e-02,\n",
       "             9.1468e-02,  1.4083e-01],\n",
       "           ...,\n",
       "           [ 1.4964e-01,  6.6904e-02,  8.8411e-02,  ...,  1.0027e-01,\n",
       "             9.3048e-02,  1.1600e-01],\n",
       "           [ 1.3418e-01,  8.5200e-02,  8.1587e-02,  ...,  1.1667e-01,\n",
       "             1.0711e-01,  1.1996e-01],\n",
       "           [ 6.0011e-02, -7.9009e-03, -4.7412e-02,  ...,  2.6503e-01,\n",
       "             2.9835e-01,  2.8142e-01]],\n",
       "\n",
       "          [[-5.5427e-02, -2.0128e-02, -2.1284e-02,  ..., -2.1258e-02,\n",
       "            -2.0466e-02,  3.4256e-02],\n",
       "           [-5.9480e-02,  4.5096e-02,  4.1974e-02,  ...,  4.2154e-02,\n",
       "             4.3781e-02,  1.2541e-01],\n",
       "           [-6.0105e-02,  4.6218e-02,  4.3494e-02,  ...,  4.3463e-02,\n",
       "             4.4853e-02,  1.2714e-01],\n",
       "           ...,\n",
       "           [ 2.8071e-02,  1.4572e-02, -3.3773e-02,  ..., -2.0658e-02,\n",
       "            -5.5046e-03,  6.9852e-02],\n",
       "           [ 2.4360e-02, -4.7360e-03, -4.8715e-02,  ..., -1.1849e-02,\n",
       "             3.6874e-03,  7.4316e-02],\n",
       "           [ 4.0030e-03, -3.4893e-02, -7.0837e-02,  ...,  1.4577e-02,\n",
       "             3.2085e-02,  8.4355e-02]],\n",
       "\n",
       "          [[ 6.9170e-02,  1.7346e-01,  1.7643e-01,  ...,  1.7599e-01,\n",
       "             1.7719e-01,  1.8295e-01],\n",
       "           [ 1.9237e-01,  1.8840e-01,  1.9022e-01,  ...,  1.8937e-01,\n",
       "             1.8895e-01,  1.5613e-01],\n",
       "           [ 1.9657e-01,  1.8944e-01,  1.8961e-01,  ...,  1.8971e-01,\n",
       "             1.9611e-01,  1.4052e-01],\n",
       "           ...,\n",
       "           [ 2.0808e-01,  2.3532e-01,  1.4095e-01,  ...,  1.7385e-01,\n",
       "             1.6539e-01,  1.6721e-01],\n",
       "           [ 2.2957e-01,  1.6659e-01,  1.5730e-01,  ...,  1.8976e-01,\n",
       "             2.1025e-01,  1.6662e-01],\n",
       "           [ 3.0610e-01,  1.7119e-01,  1.7616e-01,  ...,  8.5166e-02,\n",
       "             1.1606e-01,  6.3205e-01]]]],\n",
       "\n",
       "\n",
       "\n",
       "        [[[[-6.7125e-02, -2.4803e-02, -1.4670e-01,  ...,  3.3946e-01,\n",
       "             3.7758e-01,  2.9104e-01],\n",
       "           [-5.2134e-01, -5.5125e-01, -5.4128e-01,  ..., -7.2956e-01,\n",
       "            -7.0303e-01, -6.6934e-01],\n",
       "           [-5.9662e-01, -6.5000e-01, -6.1281e-01,  ..., -7.6089e-01,\n",
       "            -7.5408e-01, -7.3615e-01],\n",
       "           ...,\n",
       "           [-4.0585e-01, -3.3996e-01, -3.3641e-01,  ..., -3.5984e-01,\n",
       "            -4.2998e-01, -4.1046e-01],\n",
       "           [-4.2788e-01, -3.4383e-01, -3.2022e-01,  ..., -4.2270e-01,\n",
       "            -3.5217e-01, -3.0998e-01],\n",
       "           [-4.1831e-01, -3.6603e-01, -3.4846e-01,  ..., -5.2679e-01,\n",
       "            -4.1817e-01, -3.6575e-01]],\n",
       "\n",
       "          [[-5.1228e-03, -1.8262e-01, -2.1363e-01,  ...,  1.2097e-01,\n",
       "             1.3407e-01, -2.7041e-01],\n",
       "           [ 8.3279e-02, -1.5094e-01, -2.1589e-01,  ...,  1.4303e-01,\n",
       "             1.6262e-01, -3.5805e-01],\n",
       "           [ 1.0454e-01, -1.3218e-01, -2.0251e-01,  ...,  1.5869e-01,\n",
       "             1.7032e-01, -3.6510e-01],\n",
       "           ...,\n",
       "           [-5.7657e-01, -4.0212e-01, -4.0547e-01,  ..., -4.5193e-01,\n",
       "            -4.9243e-01,  1.5906e-02],\n",
       "           [-6.0348e-01, -4.1335e-01, -4.0946e-01,  ..., -4.9411e-01,\n",
       "            -4.7789e-01,  3.4152e-02],\n",
       "           [-6.3588e-01, -4.9992e-01, -4.9220e-01,  ..., -6.8212e-01,\n",
       "            -6.3952e-01, -1.4197e-01]],\n",
       "\n",
       "          [[-3.0921e-04, -3.4299e-04, -3.3099e-04,  ..., -3.9504e-04,\n",
       "            -3.9661e-04, -3.6497e-04],\n",
       "           [-3.2667e-04, -3.7407e-04, -3.5556e-04,  ..., -4.4948e-04,\n",
       "            -4.5237e-04, -4.0626e-04],\n",
       "           [-3.3315e-04, -3.8023e-04, -3.6076e-04,  ..., -4.5059e-04,\n",
       "            -4.5392e-04, -4.0722e-04],\n",
       "           ...,\n",
       "           [-1.8693e-04, -1.5232e-04, -1.5117e-04,  ..., -1.4984e-04,\n",
       "            -1.3167e-04, -1.7509e-04],\n",
       "           [-1.8589e-04, -1.5271e-04, -1.5383e-04,  ..., -1.3825e-04,\n",
       "            -1.1866e-04, -1.6790e-04],\n",
       "           [-2.1137e-04, -1.8953e-04, -1.9153e-04,  ..., -1.7268e-04,\n",
       "            -1.6014e-04, -2.0044e-04]],\n",
       "\n",
       "          ...,\n",
       "\n",
       "          [[ 2.6171e-01,  2.9597e-01,  2.4119e-01,  ...,  4.3297e-01,\n",
       "             4.4914e-01,  5.2308e-01],\n",
       "           [ 9.2715e-02,  1.4414e-01,  1.4032e-01,  ...,  9.8362e-02,\n",
       "             1.1426e-01,  1.8185e-01],\n",
       "           [ 6.8457e-02,  1.1406e-01,  1.2036e-01,  ...,  8.9856e-02,\n",
       "             1.0674e-01,  1.5346e-01],\n",
       "           ...,\n",
       "           [ 1.2231e-01,  1.1407e-01,  1.0752e-01,  ...,  1.6033e-01,\n",
       "             1.0358e-01,  7.4312e-02],\n",
       "           [ 8.5782e-02,  8.6475e-02,  8.9833e-02,  ...,  1.1093e-01,\n",
       "             1.1429e-01,  9.6523e-02],\n",
       "           [-6.9386e-02, -1.1866e-01, -9.9057e-02,  ..., -2.6915e-01,\n",
       "            -2.4843e-01, -1.4958e-01]],\n",
       "\n",
       "          [[-5.6142e-02, -2.2102e-02, -1.9010e-02,  ..., -2.4964e-02,\n",
       "            -2.7223e-02,  3.6150e-02],\n",
       "           [-5.7925e-02,  3.0685e-02,  3.2338e-02,  ...,  3.6926e-02,\n",
       "             3.6091e-02,  1.3622e-01],\n",
       "           [-5.6855e-02,  3.7122e-02,  4.1571e-02,  ...,  3.6288e-02,\n",
       "             3.8907e-02,  1.4312e-01],\n",
       "           ...,\n",
       "           [ 1.7834e-02, -5.0044e-02, -5.5047e-02,  ..., -3.1783e-02,\n",
       "            -2.9303e-02, -1.3103e-01],\n",
       "           [ 1.4386e-02, -5.8975e-02, -6.1090e-02,  ..., -2.4582e-02,\n",
       "            -4.1469e-02, -1.4844e-01],\n",
       "           [-9.4003e-03, -9.1425e-02, -8.9571e-02,  ..., -7.5384e-02,\n",
       "            -1.0474e-01, -1.6996e-01]],\n",
       "\n",
       "          [[ 9.5344e-02,  1.5591e-01,  1.2921e-01,  ...,  2.1323e-01,\n",
       "             1.5396e-01,  1.5868e-01],\n",
       "           [ 1.6865e-01,  1.8195e-01,  1.6617e-01,  ...,  2.2868e-01,\n",
       "             1.4628e-01,  1.6764e-01],\n",
       "           [ 1.5747e-01,  1.7790e-01,  1.8166e-01,  ...,  2.0179e-01,\n",
       "             1.8494e-01,  1.6343e-01],\n",
       "           ...,\n",
       "           [ 1.9421e-01,  1.7079e-01,  1.8162e-01,  ...,  2.6103e-01,\n",
       "             2.0435e-01,  1.7656e-01],\n",
       "           [ 1.4391e-01,  1.8380e-01,  1.4663e-01,  ...,  2.6342e-01,\n",
       "             1.4642e-01,  1.7323e-01],\n",
       "           [ 8.7381e-02,  1.2969e-01,  1.2615e-01,  ...,  1.4852e-01,\n",
       "             1.1897e-01, -5.7476e-01]]]],\n",
       "\n",
       "\n",
       "\n",
       "        ...,\n",
       "\n",
       "\n",
       "\n",
       "        [[[[-2.6083e-01, -2.6181e-01, -2.8237e-01,  ..., -6.1051e-01,\n",
       "            -7.7774e-01, -8.1520e-01],\n",
       "           [-5.8148e-01, -6.0177e-01, -6.1534e-01,  ..., -5.2395e-01,\n",
       "            -3.9407e-01, -3.5689e-01],\n",
       "           [-6.1980e-01, -6.4832e-01, -6.0836e-01,  ..., -5.3809e-01,\n",
       "            -4.8906e-01, -4.3827e-01],\n",
       "           ...,\n",
       "           [-6.7181e-01, -7.0679e-01, -6.8137e-01,  ..., -3.4960e-01,\n",
       "            -4.0423e-01, -4.6697e-01],\n",
       "           [-7.0063e-01, -7.6610e-01, -7.2729e-01,  ..., -1.0094e+00,\n",
       "            -5.6228e-01, -4.4818e-01],\n",
       "           [-6.1144e-01, -6.6952e-01, -6.7697e-01,  ..., -5.6517e-01,\n",
       "            -5.4709e-01, -4.9158e-01]],\n",
       "\n",
       "          [[ 1.2318e-01,  2.9734e-02,  2.2073e-02,  ..., -1.5615e-01,\n",
       "            -3.1911e-01, -1.6048e-01],\n",
       "           [ 1.5864e-01, -6.8207e-03, -1.7885e-02,  ..., -1.8898e-01,\n",
       "            -3.2731e-01, -1.2466e-01],\n",
       "           [ 1.2118e-01, -4.6713e-02, -4.3735e-02,  ..., -2.1662e-01,\n",
       "            -3.3189e-01, -1.1894e-01],\n",
       "           ...,\n",
       "           [ 3.0319e-01,  2.2321e-01,  6.1687e-02,  ..., -1.5318e-01,\n",
       "            -2.5159e-01, -1.2756e-01],\n",
       "           [ 1.7658e-01,  1.8704e-01,  4.3900e-02,  ..., -1.2130e-01,\n",
       "            -1.9852e-01, -1.2613e-01],\n",
       "           [ 4.2573e-02,  1.0289e-01,  2.0623e-02,  ..., -2.3083e-01,\n",
       "            -2.1138e-01, -1.5698e-01]],\n",
       "\n",
       "          [[-3.2350e-04, -3.0991e-04, -3.0420e-04,  ..., -2.5545e-04,\n",
       "            -2.1210e-04, -2.3818e-04],\n",
       "           [-3.4468e-04, -3.2428e-04, -3.1493e-04,  ..., -2.5218e-04,\n",
       "            -1.9240e-04, -2.2151e-04],\n",
       "           [-3.4281e-04, -3.1920e-04, -3.0851e-04,  ..., -2.4618e-04,\n",
       "            -1.9735e-04, -2.2471e-04],\n",
       "           ...,\n",
       "           [-3.6879e-04, -3.7388e-04, -3.5843e-04,  ..., -2.4816e-04,\n",
       "            -2.4858e-04, -2.6340e-04],\n",
       "           [-3.4589e-04, -3.5335e-04, -3.4191e-04,  ..., -2.1921e-04,\n",
       "            -2.3825e-04, -2.6197e-04],\n",
       "           [-3.1685e-04, -3.2272e-04, -3.1700e-04,  ..., -2.1772e-04,\n",
       "            -2.4100e-04, -2.6697e-04]],\n",
       "\n",
       "          ...,\n",
       "\n",
       "          [[ 2.1556e-01,  1.7843e-01,  1.9756e-01,  ..., -4.6989e-02,\n",
       "             2.7996e-02, -2.1710e-02],\n",
       "           [ 1.0582e-01,  9.4734e-02,  8.1990e-02,  ..., -1.0216e-02,\n",
       "             1.8657e-01,  1.9978e-01],\n",
       "           [ 7.4552e-02,  5.9613e-02,  6.8266e-02,  ...,  3.6644e-02,\n",
       "             1.4374e-01,  1.5190e-01],\n",
       "           ...,\n",
       "           [ 1.4096e-01,  1.1843e-01,  8.4694e-02,  ...,  3.3224e-01,\n",
       "             1.3381e-01,  1.0808e-01],\n",
       "           [ 1.0098e-01,  7.5726e-02,  7.1695e-02,  ..., -1.1179e-01,\n",
       "             1.1228e-01,  1.1392e-01],\n",
       "           [ 1.0967e-01,  1.0592e-01,  1.1313e-01,  ..., -1.5827e-01,\n",
       "            -2.2162e-02,  6.1229e-02]],\n",
       "\n",
       "          [[-1.2364e-03,  7.1643e-03,  5.1545e-03,  ...,  3.6192e-02,\n",
       "             6.2484e-03, -3.2979e-02],\n",
       "           [ 2.6398e-03,  2.8831e-02,  2.0275e-02,  ...,  5.3477e-02,\n",
       "             1.6971e-03, -5.9885e-02],\n",
       "           [ 3.7581e-03,  2.6830e-02,  1.5557e-02,  ...,  4.5726e-02,\n",
       "             5.1856e-03, -5.6337e-02],\n",
       "           ...,\n",
       "           [-1.2406e-02,  2.8350e-02,  5.1406e-02,  ...,  4.1597e-02,\n",
       "            -3.5511e-04, -3.6972e-02],\n",
       "           [-1.0764e-02,  1.2723e-02,  4.1938e-02,  ..., -2.9553e-02,\n",
       "            -4.3773e-03, -3.6304e-02],\n",
       "           [-8.6875e-03,  2.1421e-03,  2.7906e-02,  ..., -1.1625e-01,\n",
       "            -6.8457e-02, -4.1548e-02]],\n",
       "\n",
       "          [[ 1.4833e-01,  1.6805e-01,  1.8378e-01,  ...,  2.5239e-01,\n",
       "             1.9699e-01,  9.7692e-02],\n",
       "           [ 1.6428e-01,  2.0449e-01,  1.8942e-01,  ...,  1.0805e-01,\n",
       "             2.1313e-01,  1.7345e-01],\n",
       "           [ 1.7950e-01,  1.6026e-01,  1.7181e-01,  ...,  2.7328e-01,\n",
       "             1.8736e-01,  2.0527e-01],\n",
       "           ...,\n",
       "           [ 2.1663e-01,  2.5746e-01,  1.8806e-01,  ...,  5.7538e-01,\n",
       "             1.6391e-01,  1.6400e-01],\n",
       "           [ 1.8540e-01,  2.0175e-01,  2.2053e-01,  ...,  2.4050e-01,\n",
       "             1.4426e-01,  1.7592e-01],\n",
       "           [ 1.7028e-01,  1.1503e-01,  3.5887e-01,  ..., -8.3672e-02,\n",
       "             1.2662e-01,  2.5356e-02]]]],\n",
       "\n",
       "\n",
       "\n",
       "        [[[[-1.5128e-01, -9.9664e-02, -9.7112e-02,  ..., -1.1944e-01,\n",
       "            -1.3187e-01, -1.7229e-01],\n",
       "           [-5.6783e-01, -6.0710e-01, -6.0482e-01,  ..., -6.0165e-01,\n",
       "            -5.9574e-01, -5.7249e-01],\n",
       "           [-5.5513e-01, -5.9966e-01, -5.9950e-01,  ..., -5.9120e-01,\n",
       "            -5.9021e-01, -5.7056e-01],\n",
       "           ...,\n",
       "           [-5.3038e-01, -5.4790e-01, -5.2977e-01,  ..., -4.7290e-01,\n",
       "            -5.0193e-01, -4.6955e-01],\n",
       "           [-5.2822e-01, -5.3407e-01, -5.3218e-01,  ..., -5.2628e-01,\n",
       "            -4.7832e-01, -4.4015e-01],\n",
       "           [-5.0807e-01, -5.3077e-01, -5.4364e-01,  ..., -5.0746e-01,\n",
       "            -4.8946e-01, -5.1461e-01]],\n",
       "\n",
       "          [[-2.9534e-02, -1.0818e-01, -1.0578e-01,  ..., -1.2217e-01,\n",
       "            -1.2199e-01, -2.2309e-01],\n",
       "           [-1.2346e-02, -1.1681e-01, -1.1088e-01,  ..., -1.2650e-01,\n",
       "            -1.2719e-01, -2.5230e-01],\n",
       "           [-8.7587e-03, -1.1275e-01, -1.0963e-01,  ..., -1.1819e-01,\n",
       "            -1.2060e-01, -2.5173e-01],\n",
       "           ...,\n",
       "           [-1.5388e-01, -1.7985e-01, -1.7589e-01,  ..., -2.2475e-01,\n",
       "            -2.3291e-01, -1.1770e-01],\n",
       "           [-1.5782e-01, -1.7546e-01, -1.7391e-01,  ..., -2.4486e-01,\n",
       "            -2.2233e-01, -1.0224e-01],\n",
       "           [-1.1943e-01, -1.3434e-01, -1.3450e-01,  ..., -2.8662e-01,\n",
       "            -2.7364e-01, -1.4984e-01]],\n",
       "\n",
       "          [[-3.0202e-04, -3.3098e-04, -3.3082e-04,  ..., -3.2930e-04,\n",
       "            -3.2719e-04, -3.2279e-04],\n",
       "           [-3.1184e-04, -3.5252e-04, -3.5247e-04,  ..., -3.4976e-04,\n",
       "            -3.4706e-04, -3.4089e-04],\n",
       "           [-3.1203e-04, -3.5297e-04, -3.5292e-04,  ..., -3.5005e-04,\n",
       "            -3.4771e-04, -3.4088e-04],\n",
       "           ...,\n",
       "           [-2.7980e-04, -3.0096e-04, -3.0064e-04,  ..., -2.4236e-04,\n",
       "            -2.4197e-04, -2.6151e-04],\n",
       "           [-2.7874e-04, -2.9955e-04, -2.9960e-04,  ..., -2.3554e-04,\n",
       "            -2.3775e-04, -2.6029e-04],\n",
       "           [-2.7844e-04, -2.9242e-04, -2.9243e-04,  ..., -2.4417e-04,\n",
       "            -2.4734e-04, -2.6558e-04]],\n",
       "\n",
       "          ...,\n",
       "\n",
       "          [[ 2.6567e-01,  2.6992e-01,  2.7175e-01,  ...,  2.6674e-01,\n",
       "             2.5672e-01,  2.8666e-01],\n",
       "           [ 9.0299e-02,  9.7572e-02,  9.7872e-02,  ...,  1.0044e-01,\n",
       "             9.9596e-02,  1.4081e-01],\n",
       "           [ 9.8995e-02,  1.0189e-01,  1.0410e-01,  ...,  1.0940e-01,\n",
       "             1.0542e-01,  1.4610e-01],\n",
       "           ...,\n",
       "           [ 9.4601e-02,  9.8752e-02,  1.0783e-01,  ...,  1.2203e-01,\n",
       "             1.0081e-01,  1.4743e-01],\n",
       "           [ 9.1045e-02,  1.0855e-01,  1.1204e-01,  ...,  7.9378e-02,\n",
       "             1.0300e-01,  1.6752e-01],\n",
       "           [ 1.4910e-01,  1.6458e-01,  1.5751e-01,  ..., -1.0817e-03,\n",
       "             2.3716e-02,  6.0793e-02]],\n",
       "\n",
       "          [[-4.3515e-02, -2.6136e-02, -2.7045e-02,  ..., -2.5142e-02,\n",
       "            -2.5548e-02,  2.7570e-03],\n",
       "           [-4.6579e-02,  4.9300e-03,  3.4681e-03,  ...,  5.7460e-03,\n",
       "             4.4411e-03,  4.3544e-02],\n",
       "           [-4.6907e-02,  4.5919e-03,  4.0355e-03,  ...,  6.3464e-03,\n",
       "             5.5053e-03,  4.4827e-02],\n",
       "           ...,\n",
       "           [-2.8617e-02, -8.4609e-03, -1.0022e-02,  ..., -1.8482e-02,\n",
       "            -1.9896e-02, -3.6820e-02],\n",
       "           [-2.8554e-02, -1.0140e-02, -1.0259e-02,  ..., -2.3222e-02,\n",
       "            -2.6279e-02, -4.1718e-02],\n",
       "           [-2.0787e-02, -2.9618e-03, -2.7230e-03,  ..., -4.6413e-02,\n",
       "            -4.3175e-02, -4.8082e-02]],\n",
       "\n",
       "          [[ 1.1506e-01,  1.6326e-01,  1.7007e-01,  ...,  1.6733e-01,\n",
       "             1.6233e-01,  1.8186e-01],\n",
       "           [ 1.7226e-01,  1.7944e-01,  1.7122e-01,  ...,  1.7465e-01,\n",
       "             1.7034e-01,  1.5606e-01],\n",
       "           [ 1.7304e-01,  1.7801e-01,  1.7101e-01,  ...,  1.7264e-01,\n",
       "             1.7644e-01,  1.6126e-01],\n",
       "           ...,\n",
       "           [ 1.8623e-01,  1.7182e-01,  1.6366e-01,  ...,  2.3012e-01,\n",
       "             2.1094e-01,  1.5483e-01],\n",
       "           [ 1.6442e-01,  1.5867e-01,  1.8143e-01,  ...,  1.8983e-01,\n",
       "             1.1479e-01,  2.2377e-01],\n",
       "           [ 1.6772e-01,  1.3686e-01,  1.3695e-01,  ...,  1.1298e-01,\n",
       "             1.3794e-01, -1.7019e-02]]]],\n",
       "\n",
       "\n",
       "\n",
       "        [[[[-9.1823e-01, -9.9360e-01, -1.0365e+00,  ..., -1.3828e+00,\n",
       "            -1.4153e+00, -1.2953e+00],\n",
       "           [-3.5433e-01, -3.2387e-01, -2.8736e-01,  ..., -2.4172e-01,\n",
       "            -2.4431e-01, -2.8421e-01],\n",
       "           [-4.2180e-01, -4.2053e-01, -4.0615e-01,  ..., -2.4503e-01,\n",
       "            -2.4210e-01, -2.8296e-01],\n",
       "           ...,\n",
       "           [-7.1975e-01, -8.3226e-01, -8.4480e-01,  ..., -2.9863e-01,\n",
       "            -2.5368e-01, -2.8480e-01],\n",
       "           [-7.1142e-01, -6.8353e-01, -5.7226e-01,  ..., -2.8534e-01,\n",
       "            -2.5230e-01, -2.8480e-01],\n",
       "           [-4.9026e-01, -5.6664e-01, -7.6274e-01,  ..., -4.1064e-01,\n",
       "            -3.8859e-01, -3.7385e-01]],\n",
       "\n",
       "          [[-3.8451e-01, -3.1941e-01, -3.1510e-01,  ..., -4.9887e-01,\n",
       "            -4.7668e-01, -5.4294e-02],\n",
       "           [-3.9377e-01, -2.8217e-01, -2.3190e-01,  ..., -4.9935e-01,\n",
       "            -4.6365e-01,  4.7319e-02],\n",
       "           [-4.0534e-01, -2.9621e-01, -2.2846e-01,  ..., -5.1468e-01,\n",
       "            -4.6969e-01,  4.5805e-02],\n",
       "           ...,\n",
       "           [ 1.0059e-01,  3.1822e-03, -3.4567e-02,  ..., -5.0341e-01,\n",
       "            -4.6106e-01,  4.5890e-02],\n",
       "           [ 1.3074e-03, -1.7993e-03,  4.3853e-02,  ..., -4.8998e-01,\n",
       "            -4.5739e-01,  4.5890e-02],\n",
       "           [ 1.3553e-02, -6.1576e-02, -7.2777e-02,  ..., -6.7160e-01,\n",
       "            -6.5441e-01, -1.4535e-01]],\n",
       "\n",
       "          [[-2.4240e-04, -2.1693e-04, -2.1615e-04,  ..., -1.6271e-04,\n",
       "            -1.5866e-04, -1.9993e-04],\n",
       "           [-2.2647e-04, -1.9177e-04, -1.9061e-04,  ..., -1.1097e-04,\n",
       "            -1.0332e-04, -1.6181e-04],\n",
       "           [-2.2631e-04, -1.9252e-04, -1.9222e-04,  ..., -1.1662e-04,\n",
       "            -1.0499e-04, -1.6215e-04],\n",
       "           ...,\n",
       "           [-3.2555e-04, -3.4444e-04, -3.4456e-04,  ..., -1.1476e-04,\n",
       "            -1.0353e-04, -1.6215e-04],\n",
       "           [-3.1188e-04, -3.2379e-04, -3.2465e-04,  ..., -1.1121e-04,\n",
       "            -1.0270e-04, -1.6215e-04],\n",
       "           [-2.9921e-04, -3.0436e-04, -3.0602e-04,  ..., -1.5781e-04,\n",
       "            -1.5283e-04, -1.9742e-04]],\n",
       "\n",
       "          ...,\n",
       "\n",
       "          [[-1.0537e-01, -1.0579e-01, -1.4784e-01,  ..., -2.4750e-01,\n",
       "            -2.6276e-01, -2.8388e-01],\n",
       "           [ 1.4890e-01,  1.3777e-01,  1.4770e-01,  ...,  1.3489e-01,\n",
       "             1.1993e-01,  1.0828e-01],\n",
       "           [ 1.3818e-01,  1.0147e-01,  1.0828e-01,  ...,  1.3257e-01,\n",
       "             1.2212e-01,  1.0861e-01],\n",
       "           ...,\n",
       "           [ 5.2218e-02,  5.5288e-02,  2.1008e-02,  ...,  1.2753e-01,\n",
       "             1.2084e-01,  1.0899e-01],\n",
       "           [-1.5606e-02,  8.6170e-02,  1.7935e-01,  ...,  1.2327e-01,\n",
       "             1.1993e-01,  1.0899e-01],\n",
       "           [ 1.5811e-01,  1.7465e-01,  5.8323e-02,  ..., -2.5447e-01,\n",
       "            -2.6422e-01, -1.6426e-01]],\n",
       "\n",
       "          [[ 1.2413e-02, -5.5746e-03, -9.4871e-03,  ..., -2.9356e-03,\n",
       "            -7.3872e-03, -6.4312e-02],\n",
       "           [ 1.7555e-02, -3.5532e-02, -4.3484e-02,  ..., -5.6730e-02,\n",
       "            -6.9148e-02, -1.5824e-01],\n",
       "           [ 2.1734e-02, -2.8082e-02, -4.4505e-02,  ..., -5.2018e-02,\n",
       "            -6.6643e-02, -1.5793e-01],\n",
       "           ...,\n",
       "           [-1.6999e-02,  2.9991e-02,  2.9671e-02,  ..., -4.2597e-02,\n",
       "            -6.6116e-02, -1.5726e-01],\n",
       "           [-1.6107e-02,  1.4112e-02,  1.6744e-02,  ..., -5.0319e-02,\n",
       "            -6.8009e-02, -1.5726e-01],\n",
       "           [-1.0255e-02,  1.2781e-02,  1.3444e-02,  ..., -1.0003e-01,\n",
       "            -1.1475e-01, -1.7466e-01]],\n",
       "\n",
       "          [[ 1.7615e-01,  2.2691e-01,  2.1999e-01,  ...,  1.5604e-01,\n",
       "             1.6839e-01,  1.4070e-01],\n",
       "           [ 8.4178e-02,  2.0606e-01,  1.5097e-01,  ...,  1.4651e-01,\n",
       "             1.5181e-01,  1.9863e-01],\n",
       "           [ 2.3414e-01,  1.3486e-01,  1.6250e-01,  ...,  1.4546e-01,\n",
       "             1.5018e-01,  1.9963e-01],\n",
       "           ...,\n",
       "           [ 2.9355e-01,  2.6967e-01,  2.4925e-01,  ...,  1.5551e-01,\n",
       "             1.5159e-01,  1.9807e-01],\n",
       "           [ 1.6896e-01, -3.3318e-02,  1.7093e-01,  ...,  1.5311e-01,\n",
       "             1.5221e-01,  1.9807e-01],\n",
       "           [ 2.1626e-01,  2.9930e-01,  2.0598e-01,  ...,  1.6319e-01,\n",
       "             1.5854e-01, -6.1661e-01]]]]], grad_fn=<ViewBackward0>)"
      ]
     },
     "execution_count": 53,
     "metadata": {},
     "output_type": "execute_result"
    }
   ],
   "source": [
    "data, _ = next(iter(test_loader))\n",
    "data = add_dimension(data, n_steps)\n",
    "model_merge_2.layer1[:2](data)"
   ]
  },
  {
   "cell_type": "code",
   "execution_count": 46,
   "metadata": {},
   "outputs": [
    {
     "data": {
      "text/plain": [
       "torch.float32"
      ]
     },
     "execution_count": 46,
     "metadata": {},
     "output_type": "execute_result"
    }
   ],
   "source": [
    "next(model_merge_2.parameters())"
   ]
  },
  {
   "cell_type": "code",
   "execution_count": 22,
   "metadata": {},
   "outputs": [
    {
     "ename": "NameError",
     "evalue": "name 'acc_s' is not defined",
     "output_type": "error",
     "traceback": [
      "\u001b[0;31m---------------------------------------------------------------------------\u001b[0m",
      "\u001b[0;31mNameError\u001b[0m                                 Traceback (most recent call last)",
      "Cell \u001b[0;32mIn[22], line 1\u001b[0m\n\u001b[0;32m----> 1\u001b[0m \u001b[38;5;28mprint\u001b[39m(acc_s)\n\u001b[1;32m      2\u001b[0m sorted_indices \u001b[38;5;241m=\u001b[39m np\u001b[38;5;241m.\u001b[39margsort(acc_s)[::\u001b[38;5;241m-\u001b[39m\u001b[38;5;241m1\u001b[39m]\n\u001b[1;32m      3\u001b[0m \u001b[38;5;28mprint\u001b[39m(sorted_indices)\n",
      "\u001b[0;31mNameError\u001b[0m: name 'acc_s' is not defined"
     ]
    }
   ],
   "source": [
    "print(acc_s)\n",
    "sorted_indices = np.argsort(acc_s)[::-1]\n",
    "print(sorted_indices)\n",
    "print(acc_s[sorted_indices])"
   ]
  },
  {
   "cell_type": "code",
   "execution_count": 50,
   "metadata": {},
   "outputs": [
    {
     "name": "stdout",
     "output_type": "stream",
     "text": [
      "Accuracy of the network on the test images: 92.300000\n",
      "Accuracy of the network on the test images: 92.010000\n",
      "Accuracy of the network on the test images: 92.370000\n",
      "Accuracy of the network on the test images: 92.010000\n",
      "Accuracy of the network on the test images: 92.440000\n",
      "Accuracy of the network on the test images: 92.100000\n",
      "Accuracy of the network on the test images: 91.460000\n",
      "Accuracy of the network on the test images: 92.090000\n",
      "Accuracy of the network on the test images: 92.240000\n",
      "Accuracy of the network on the test images: 92.160000\n",
      "Accuracy of the network on the test images: 92.070000\n",
      "Accuracy of the network on the test images: 92.280000\n",
      "Accuracy of the network on the test images: 92.270000\n",
      "Accuracy of the network on the test images: 92.060000\n",
      "Accuracy of the network on the test images: 92.180000\n",
      "Accuracy of the network on the test images: 92.310000\n",
      "Accuracy of the network on the test images: 92.080000\n",
      "Accuracy of the network on the test images: 92.360000\n",
      "Accuracy of the network on the test images: 92.330000\n",
      "Accuracy of the network on the test images: 91.940000\n",
      "Accuracy of the network on the test images: 92.130000\n",
      "Accuracy of the network on the test images: 92.400000\n",
      "Accuracy of the network on the test images: 92.000000\n",
      "Accuracy of the network on the test images: 92.140000\n",
      "Accuracy of the network on the test images: 92.160000\n",
      "Accuracy of the network on the test images: 91.930000\n",
      "Accuracy of the network on the test images: 92.320000\n",
      "Accuracy of the network on the test images: 92.100000\n",
      "Accuracy of the network on the test images: 92.440000\n",
      "Accuracy of the network on the test images: 92.120000\n"
     ]
    }
   ],
   "source": [
    "double_acc_s = [validate_snn(model, test_loader, n_steps, device, use_double=True) for model in model_s]"
   ]
  },
  {
   "cell_type": "code",
   "execution_count": 52,
   "metadata": {},
   "outputs": [
    {
     "name": "stdout",
     "output_type": "stream",
     "text": [
      "[92.3  92.01 92.37 92.01 92.44 92.1  91.46 92.09 92.24 92.16 92.07 92.28\n",
      " 92.27 92.06 92.18 92.31 92.08 92.36 92.33 91.94 92.13 92.4  92.   92.14\n",
      " 92.16 91.93 92.32 92.1  92.44 92.12]\n",
      "[ 4 28 21  2 17 18 26 15  0 11 12  8 14 24  9 23 20 29  5 27  7 16 10 13\n",
      "  3  1 22 19 25  6]\n",
      "[92.44 92.44 92.4  92.37 92.36 92.33 92.32 92.31 92.3  92.28 92.27 92.24\n",
      " 92.18 92.16 92.16 92.14 92.13 92.12 92.1  92.1  92.09 92.08 92.07 92.06\n",
      " 92.01 92.01 92.   91.94 91.93 91.46]\n"
     ]
    }
   ],
   "source": [
    "double_acc_s = np.array(double_acc_s)\n",
    "print(double_acc_s)\n",
    "sorted_indices = np.argsort(double_acc_s)[::-1]\n",
    "print(sorted_indices)\n",
    "print(double_acc_s[sorted_indices])"
   ]
  },
  {
   "cell_type": "markdown",
   "metadata": {},
   "source": [
    "fuse - merge"
   ]
  },
  {
   "cell_type": "code",
   "execution_count": 67,
   "metadata": {},
   "outputs": [
    {
     "name": "stdout",
     "output_type": "stream",
     "text": [
      "Accuracy of the network on the test images: 92.220000\n"
     ]
    },
    {
     "data": {
      "text/plain": [
       "92.22"
      ]
     },
     "execution_count": 67,
     "metadata": {},
     "output_type": "execute_result"
    }
   ],
   "source": [
    "model_merge_1 = deepcopy(model_s[0])\n",
    "model_merge_2 = deepcopy(model_s[6])\n",
    "model_mid = deepcopy(model_s[0])\n",
    "\n",
    "use_double = False\n",
    "use_double_fuse = True\n",
    "if not use_double:\n",
    "    model_merge_1.float()\n",
    "    model_merge_2.float()\n",
    "    model_mid.float()\n",
    "else:\n",
    "    model_merge_1.double()\n",
    "    model_merge_2.double()\n",
    "    model_mid.double()\n",
    "\n",
    "# validate_snn(model_merge_1, test_loader, n_steps, device, use_double=use_double)\n",
    "# validate_snn(model_merge_2, test_loader, n_steps, device, use_double=use_double)\n",
    "\n",
    "fuse_snn_vgg16(model_merge_1, use_double=use_double_fuse, final_double=use_double)\n",
    "fuse_snn_vgg16(model_merge_2, use_double=use_double_fuse, final_double=use_double)\n",
    "fuse_snn_vgg16(model_mid, use_double=use_double_fuse, final_double=use_double)\n",
    "# validate_snn(model_merge_1, test_loader, n_steps, device, use_double=use_double)\n",
    "# validate_snn(model_merge_2, test_loader, n_steps, device, use_double=use_double)\n",
    "sd_mid = interpolate_state_dicts(model_merge_1.state_dict(), model_merge_2.state_dict(), 0.5)\n",
    "model_mid.load_state_dict(sd_mid)\n",
    "validate_snn(model_mid, test_loader, n_steps, device, use_double=use_double)"
   ]
  },
  {
   "cell_type": "markdown",
   "metadata": {},
   "source": [
    "merge - fuse"
   ]
  },
  {
   "cell_type": "code",
   "execution_count": null,
   "metadata": {},
   "outputs": [
    {
     "name": "stdout",
     "output_type": "stream",
     "text": [
      "Accuracy of the network on the test images: 92.300000\n"
     ]
    },
    {
     "data": {
      "text/plain": [
       "92.3"
      ]
     },
     "execution_count": 62,
     "metadata": {},
     "output_type": "execute_result"
    }
   ],
   "source": [
    "model_merge_1 = deepcopy(model_s[4])\n",
    "model_merge_2 = deepcopy(model_s[28])\n",
    "model_mid = deepcopy(model_s[0])\n",
    "\n",
    "use_double = True\n",
    "use_double_fuse = True\n",
    "if not use_double:\n",
    "    model_merge_1.float()\n",
    "    model_merge_2.float()\n",
    "    model_mid.float()\n",
    "else:\n",
    "    model_merge_1.double()\n",
    "    model_merge_2.double()\n",
    "    model_mid.double()\n",
    "sd_mid = interpolate_state_dicts(model_merge_1.state_dict(), model_merge_2.state_dict(), 0.5)\n",
    "model_mid.load_state_dict(sd_mid)\n",
    "fuse_snn_vgg16(model_mid, use_double=use_double_fuse, final_double=use_double)\n",
    "validate_snn(model_mid, test_loader, n_steps, device, use_double=use_double)"
   ]
  },
  {
   "cell_type": "code",
   "execution_count": 56,
   "metadata": {},
   "outputs": [
    {
     "name": "stdout",
     "output_type": "stream",
     "text": [
      "Accuracy of the network on the test images: 92.220000\n"
     ]
    },
    {
     "data": {
      "text/plain": [
       "92.22"
      ]
     },
     "execution_count": 56,
     "metadata": {},
     "output_type": "execute_result"
    }
   ],
   "source": [
    "sd_mid = interpolate_state_dicts(model_merge_1.state_dict(), model_merge_2.state_dict(), 0.5, use_slerp=True)\n",
    "model_mid.load_state_dict(sd_mid)\n",
    "validate_snn(model_mid, test_loader, n_steps, device, use_double=True)\n",
    "# reset_bn_stats(model_mid, device, train_loader, n_steps, layerwise=False, ann=False, use_double=True)\n",
    "# validate_snn(model_mid, test_loader, n_steps, device, use_double=True)"
   ]
  },
  {
   "cell_type": "markdown",
   "metadata": {},
   "source": [
    "reset pretrained snn"
   ]
  },
  {
   "cell_type": "code",
   "execution_count": 20,
   "metadata": {},
   "outputs": [
    {
     "name": "stdout",
     "output_type": "stream",
     "text": [
      "Accuracy of the network on the test images: 92.300000\n",
      "Accuracy of the network on the test images: 91.880000\n"
     ]
    },
    {
     "data": {
      "text/plain": [
       "91.88"
      ]
     },
     "execution_count": 20,
     "metadata": {},
     "output_type": "execute_result"
    }
   ],
   "source": [
    "model_tmp = deepcopy(model_s[0]).double()\n",
    "validate_snn(model_tmp, test_loader, n_steps, thresholds, device, use_double=True)\n",
    "reset_bn_stats(model_tmp, device, train_loader, n_steps, layerwise=False, ann=False, use_double=True)\n",
    "validate_snn(model_tmp, test_loader, n_steps, device, use_double=True)"
   ]
  },
  {
   "cell_type": "code",
   "execution_count": 43,
   "metadata": {},
   "outputs": [
    {
     "name": "stdout",
     "output_type": "stream",
     "text": [
      "Accuracy of the network on the test images: 92.050000\n",
      "\n"
     ]
    }
   ],
   "source": [
    "model_tmp.train()\n",
    "model_tmp.to(device)\n",
    "for data, _ in train_loader:\n",
    "    data = add_dimension(data, n_steps)\n",
    "    data = data.to(device)\n",
    "    model_tmp(data, thresholds, L=0, t=n_steps)\n",
    "    model_tmp.zero_grad()\n",
    "model_tmp.eval()\n",
    "validate_snn(model_tmp, test_loader, n_steps, thresholds, device)\n",
    "model_tmp.to('cpu')\n",
    "print()"
   ]
  },
  {
   "cell_type": "code",
   "execution_count": null,
   "metadata": {},
   "outputs": [],
   "source": [
    "for key in sd_s[0].keys():\n",
    "    if \"running\" in key:\n",
    "        plt.plot(sd_s[0][key].flatten(), label='before')\n",
    "        plt.plot(model_tmp.state_dict()[key].flatten(), label='after')\n",
    "        plt.title(key)\n",
    "        plt.legend()\n",
    "        plt.show()"
   ]
  },
  {
   "cell_type": "code",
   "execution_count": 45,
   "metadata": {},
   "outputs": [
    {
     "name": "stdout",
     "output_type": "stream",
     "text": [
      "torch.Size([256, 1, 3, 32, 32])\n",
      "\n"
     ]
    }
   ],
   "source": [
    "before_cor_after_incor = []\n",
    "\n",
    "model_s[0].eval()\n",
    "model_tmp.eval()\n",
    "model_s[0].to(device)\n",
    "model_tmp.to(device)\n",
    "\n",
    "with torch.no_grad():\n",
    "    for data, target in test_loader:\n",
    "        data = add_dimension(data, n_steps)\n",
    "        data, target = data.to(device), target.to(device)\n",
    "        \n",
    "        # Get predictions from both models\n",
    "        output_s = model_s[0](data, thresholds, L=0, t=n_steps)\n",
    "        output_tmp = model_tmp(data, thresholds, L=0, t=n_steps)\n",
    "        \n",
    "        # Calculate the mean over the time steps\n",
    "        output_s = torch.mean(output_s, dim=1)\n",
    "        output_tmp = torch.mean(output_tmp, dim=1)\n",
    "        \n",
    "        # Get the predicted classes\n",
    "        pred_s = output_s.argmax(dim=1)\n",
    "        pred_tmp = output_tmp.argmax(dim=1)\n",
    "        \n",
    "        # Find the correctly classified samples by model_s[0] but not by model_tmp\n",
    "        correct_s = (pred_s == target)\n",
    "        incorrect_tmp = (pred_tmp != target)\n",
    "        correct_diff = correct_s & incorrect_tmp\n",
    "        \n",
    "        # Store the samples\n",
    "        before_cor_after_incor.append(data[correct_diff])\n",
    "\n",
    "# Concatenate all the correct samples into a single tensor\n",
    "before_cor_after_incor = torch.cat(before_cor_after_incor, dim=0)\n",
    "print(before_cor_after_incor.shape)\n",
    "print()"
   ]
  },
  {
   "cell_type": "code",
   "execution_count": 46,
   "metadata": {},
   "outputs": [],
   "source": [
    "model_s[0].to(device)\n",
    "model_tmp.to(device)\n",
    "\n",
    "before_out = model_s[0](before_cor_after_incor, thresholds, L=0, t=n_steps)\n",
    "after_out = model_tmp(before_cor_after_incor, thresholds, L=0, t=n_steps)"
   ]
  },
  {
   "cell_type": "code",
   "execution_count": 48,
   "metadata": {},
   "outputs": [
    {
     "data": {
      "text/plain": [
       "torch.Size([256, 1, 10])"
      ]
     },
     "execution_count": 48,
     "metadata": {},
     "output_type": "execute_result"
    }
   ],
   "source": [
    "before_out.shape"
   ]
  },
  {
   "cell_type": "code",
   "execution_count": 49,
   "metadata": {},
   "outputs": [
    {
     "data": {
      "text/plain": [
       "<matplotlib.legend.Legend at 0x787eec29da50>"
      ]
     },
     "execution_count": 49,
     "metadata": {},
     "output_type": "execute_result"
    },
    {
     "data": {
      "image/png": "[encoded data removed]",
      "text/plain": [
       "<Figure size 640x480 with 1 Axes>"
      ]
     },
     "metadata": {},
     "output_type": "display_data"
    }
   ],
   "source": [
    "idx = 8\n",
    "plt.plot(before_out[idx, 0].to('cpu').detach(), label='before')\n",
    "plt.plot(after_out[idx, 0].to('cpu').detach(), label='after')\n",
    "plt.title(f'output {idx}')\n",
    "plt.legend()"
   ]
  },
  {
   "cell_type": "code",
   "execution_count": 43,
   "metadata": {},
   "outputs": [],
   "source": [
    "before_cor = []\n",
    "model_s[0].eval()\n",
    "model_s[0].to(device)\n",
    "\n",
    "with torch.no_grad():\n",
    "    for data, target in test_loader:\n",
    "        data = add_dimension(data, n_steps)\n",
    "        data, target = data.to(device), target.to(device)\n",
    "        \n",
    "        # Get predictions from both models\n",
    "        output_s = model_s[0](data, thresholds, L=0, t=n_steps)\n",
    "        # Calculate the mean over the time steps\n",
    "        output_s = torch.mean(output_s, dim=1)\n",
    "        # Get the predicted classes\n",
    "        pred_s = output_s.argmax(dim=1)\n",
    "        # Find the correctly classified samples by model_s[0] but not by model_tmp\n",
    "        correct_s = (pred_s == target)\n",
    "        # Store the samples\n",
    "        before_cor.append(data[correct_s])\n",
    "        break\n",
    "# Concatenate all the correct samples into a single tensor\n",
    "before_cor = torch.cat(before_cor, dim=0)"
   ]
  },
  {
   "cell_type": "code",
   "execution_count": 56,
   "metadata": {},
   "outputs": [],
   "source": [
    "before_incor = []\n",
    "before_incor_labels = []\n",
    "model_s[0].eval()\n",
    "model_s[0].to(device)\n",
    "\n",
    "with torch.no_grad():\n",
    "    for data, target in test_loader:\n",
    "        data = add_dimension(data, n_steps)\n",
    "        data, target = data.to(device), target.to(device)\n",
    "        \n",
    "        # Get predictions from both models\n",
    "        output_s = model_s[0](data, thresholds, L=0, t=n_steps)\n",
    "        # Calculate the mean over the time steps\n",
    "        output_s = torch.mean(output_s, dim=1)\n",
    "        # Get the predicted classes\n",
    "        pred_s = output_s.argmax(dim=1)\n",
    "        # Find the correctly classified samples by model_s[0] but not by model_tmp\n",
    "        incorrect_s = (pred_s != target)\n",
    "        # Store the samples\n",
    "        before_incor.append(data[incorrect_s])\n",
    "        before_incor_labels.append(target[incorrect_s])\n",
    "# Concatenate all the correct samples into a single tensor\n",
    "before_incor = torch.cat(before_incor, dim=0)\n",
    "before_incor_labels = torch.cat(before_incor_labels, dim=0)"
   ]
  },
  {
   "cell_type": "code",
   "execution_count": 54,
   "metadata": {},
   "outputs": [],
   "source": [
    "before_cor_out = model_s[0](before_cor, thresholds, L=0, t=n_steps)\n",
    "before_incor_out = model_s[0](before_incor, thresholds, L=0, t=n_steps)"
   ]
  },
  {
   "cell_type": "code",
   "execution_count": null,
   "metadata": {},
   "outputs": [],
   "source": [
    "for idx in range(20):\n",
    "    plt.plot(before_cor_out[idx, 0].to('cpu').detach(), label='before')\n",
    "    plt.title(f'output {idx}')\n",
    "    plt.legend()\n",
    "    plt.show()\n"
   ]
  },
  {
   "cell_type": "code",
   "execution_count": null,
   "metadata": {},
   "outputs": [],
   "source": [
    "for idx in range(20):\n",
    "    plt.plot(before_incor_out[idx, 0].to('cpu').detach(), label='before')\n",
    "    plt.title(f'target: {before_incor_labels[idx]}')\n",
    "    plt.legend()\n",
    "    plt.show()\n"
   ]
  },
  {
   "cell_type": "code",
   "execution_count": 70,
   "metadata": {},
   "outputs": [
    {
     "name": "stdout",
     "output_type": "stream",
     "text": [
      "Accuracy of the network on the test images: 95.880000\n"
     ]
    },
    {
     "data": {
      "text/plain": [
       "95.88"
      ]
     },
     "execution_count": 70,
     "metadata": {},
     "output_type": "execute_result"
    }
   ],
   "source": [
    "ann_model = modelpool(args.model, args.dataset)\n",
    "ann_sd = torch.load(f'saved_models/cifar10_vgg16_{ckpt_model_idx}.pth', map_location='cpu', weights_only=True)\n",
    "ann_model.load_state_dict(ann_sd)\n",
    "validate_ann(ann_model, test_loader, device)"
   ]
  },
  {
   "cell_type": "code",
   "execution_count": 71,
   "metadata": {},
   "outputs": [],
   "source": [
    "ann_cor = []\n",
    "ann_model.to(device)\n",
    "ann_model.eval()\n",
    "\n",
    "with torch.no_grad():\n",
    "    for data, target in test_loader:\n",
    "        data, target = data.to(device), target.to(device)\n",
    "        output = ann_model(data)\n",
    "        pred = output.argmax(dim=1)\n",
    "        correct = (pred == target)\n",
    "        ann_cor.append(data[correct])\n",
    "        break\n",
    "ann_cor = torch.cat(ann_cor, dim=0)\n",
    "\n",
    "ann_cor_out = ann_model(ann_cor)"
   ]
  },
  {
   "cell_type": "code",
   "execution_count": 56,
   "metadata": {},
   "outputs": [],
   "source": [
    "# ann_cor_out = ann_model(before_cor_after_incor[:, 0, :, :, :].to(device))"
   ]
  },
  {
   "cell_type": "code",
   "execution_count": 72,
   "metadata": {},
   "outputs": [],
   "source": [
    "ann_incor = []\n",
    "ann_incor_labels = []\n",
    "ann_model.to(device)\n",
    "ann_model.eval()\n",
    "with torch.no_grad():\n",
    "    for data, target in test_loader:\n",
    "        data, target = data.to(device), target.to(device)\n",
    "        output = ann_model(data)\n",
    "        pred = output.argmax(dim=1)\n",
    "        incorrect = (pred != target)\n",
    "        ann_incor.append(data[incorrect])\n",
    "        ann_incor_labels.append(target[incorrect])\n",
    "ann_incor = torch.cat(ann_incor, dim=0)\n",
    "\n",
    "ann_incor_out = ann_model(ann_incor)"
   ]
  },
  {
   "cell_type": "code",
   "execution_count": null,
   "metadata": {},
   "outputs": [],
   "source": [
    "for idx in range(20):\n",
    "    plt.plot(ann_cor_out[idx].to('cpu').detach(), label='before')\n",
    "    plt.legend()\n",
    "    plt.show()"
   ]
  },
  {
   "cell_type": "code",
   "execution_count": null,
   "metadata": {},
   "outputs": [],
   "source": [
    "for idx in range(20):\n",
    "    plt.plot(ann_incor_out[idx].to('cpu').detach(), label='before')\n",
    "    plt.legend()\n",
    "    plt.show()"
   ]
  },
  {
   "cell_type": "code",
   "execution_count": 73,
   "metadata": {},
   "outputs": [
    {
     "name": "stdout",
     "output_type": "stream",
     "text": [
      "Accuracy of the network on the test images: 95.840000\n"
     ]
    },
    {
     "data": {
      "text/plain": [
       "95.84"
      ]
     },
     "execution_count": 73,
     "metadata": {},
     "output_type": "execute_result"
    }
   ],
   "source": [
    "reset_bn_stats(ann_model, device, train_loader, n_steps, layerwise=False, ann=True)\n",
    "validate_ann(ann_model, test_loader, device)"
   ]
  },
  {
   "cell_type": "code",
   "execution_count": 74,
   "metadata": {},
   "outputs": [],
   "source": [
    "ann_model.to(device)\n",
    "after_ann_out = ann_model(ann_incor)"
   ]
  },
  {
   "cell_type": "code",
   "execution_count": null,
   "metadata": {},
   "outputs": [],
   "source": [
    "for idx in range(20):\n",
    "    plt.plot(ann_incor_out[idx].to('cpu').detach(), label='before')\n",
    "    plt.plot(after_ann_out[idx].to('cpu').detach(), label='after')\n",
    "    plt.legend()\n",
    "    plt.show()"
   ]
  },
  {
   "cell_type": "markdown",
   "metadata": {},
   "source": [
    "#### merging"
   ]
  },
  {
   "cell_type": "markdown",
   "metadata": {},
   "source": [
    "##### uniform soup"
   ]
  },
  {
   "cell_type": "code",
   "execution_count": 119,
   "metadata": {},
   "outputs": [
    {
     "name": "stdout",
     "output_type": "stream",
     "text": [
      "Accuracy of the network on the test images: 92.640000\n",
      "linear acc: 92.64\n",
      "Accuracy of the network on the test images: 92.510000\n",
      "linear acc reset: 92.51\n",
      "Accuracy of the network on the test images: 92.270000\n",
      "slerp acc: 92.27\n",
      "Accuracy of the network on the test images: 92.200000\n",
      "slerp acc reset: 92.2\n"
     ]
    }
   ],
   "source": [
    "# bn_loader, _ = datapool(args.dataset, 512, 0, shuffle=False)\n",
    "model_mid = modelpool(args.model, args.dataset)\n",
    "model_mid = ann_to_snn(model_mid, thresholds, thresholds1, n_steps)\n",
    "merged_indices = range(0, num_models)\n",
    "\n",
    "sorted_indices = np.argsort(acc_s)[::-1]\n",
    "merged_indices = sorted_indices[:4]\n",
    "# merged_indices = [0, 2]\n",
    "\n",
    "merged_sds = [sd_s[i] for i in merged_indices]\n",
    "num_models = len(merged_sds)\n",
    "merged_weights = [1/num_models]*num_models\n",
    "\n",
    "sd_mid = interpolate_multi_state_dicts(merged_sds, merged_weights, use_slerp=False)\n",
    "model_mid.load_state_dict(sd_mid)\n",
    "model_mid = model_mid.to(device)\n",
    "acc_mid = validate_snn(model_mid, test_loader, n_steps, device)\n",
    "print(f'linear acc: {acc_mid}')\n",
    "reset_bn_stats(model_mid, device, train_loader, n_steps, layerwise=False, ann=False)\n",
    "acc_mid_reset = validate_snn(model_mid, test_loader, n_steps, device)\n",
    "print(f'linear acc reset: {acc_mid_reset}')\n",
    "\n",
    "sd_mid = interpolate_multi_state_dicts(merged_sds, merged_weights, use_slerp=True)\n",
    "model_mid.load_state_dict(sd_mid)\n",
    "model_mid = model_mid.to(device)\n",
    "acc_mid = validate_snn(model_mid, test_loader, n_steps, device)\n",
    "print(f'slerp acc: {acc_mid}')\n",
    "reset_bn_stats(model_mid, device, train_loader, n_steps, layerwise=False, ann=False)\n",
    "acc_mid_reset = validate_snn(model_mid, test_loader, n_steps, device)\n",
    "print(f'slerp acc reset: {acc_mid_reset}')"
   ]
  },
  {
   "cell_type": "code",
   "execution_count": 60,
   "metadata": {},
   "outputs": [
    {
     "name": "stdout",
     "output_type": "stream",
     "text": [
      "Accuracy of the network on the test images: 89.980000\n"
     ]
    }
   ],
   "source": [
    "reset_bn_stats(model_mid, device, train_loader, n_steps, layerwise=False, ann=False)\n",
    "acc_mid_reset = validate_snn(model_mid, test_loader, n_steps, device)"
   ]
  },
  {
   "cell_type": "code",
   "execution_count": 45,
   "metadata": {},
   "outputs": [
    {
     "name": "stdout",
     "output_type": "stream",
     "text": [
      "Accuracy of the network on the test images: 92.360000\n",
      "slerp acc reset: 92.36\n"
     ]
    }
   ],
   "source": [
    "model_mid = deepcopy(model_s[0])\n",
    "sd_mid = interpolate_multi_state_dicts(merged_sds, merged_weights, use_slerp=True)\n",
    "model_mid.load_state_dict(sd_mid)\n",
    "model_mid = model_mid.to(device)\n",
    "# acc_mid = validate_snn(model_mid, test_loader, n_steps, device)\n",
    "# print(f'slerp acc: {acc_mid}')\n",
    "reset_bn_stats(model_mid, device, train_loader, n_steps, layerwise=False, ann=False)\n",
    "acc_mid_reset = validate_snn(model_mid, test_loader, n_steps, device)\n",
    "print(f'slerp acc reset: {acc_mid_reset}')"
   ]
  },
  {
   "cell_type": "markdown",
   "metadata": {},
   "source": [
    "##### greedy soup\n",
    "\n",
    "1. sort all models according to their test acc (descending)\n",
    "2. add the next best model to the soup\n",
    "3. remain the model only if it has a better test acc than the current soup\n",
    "4. repeat step 2 and 3 until no more models can be added"
   ]
  },
  {
   "cell_type": "code",
   "execution_count": 136,
   "metadata": {},
   "outputs": [
    {
     "name": "stdout",
     "output_type": "stream",
     "text": [
      "use_slerp: True\n",
      "test model 11\n",
      "add model 11, current acc: 92.61\n",
      "\n",
      "test model 28\n"
     ]
    },
    {
     "ename": "TypeError",
     "evalue": "validate_snn() got multiple values for argument 'verbose'",
     "output_type": "error",
     "traceback": [
      "\u001b[0;31m---------------------------------------------------------------------------\u001b[0m",
      "\u001b[0;31mTypeError\u001b[0m                                 Traceback (most recent call last)",
      "Cell \u001b[0;32mIn[136], line 35\u001b[0m\n\u001b[1;32m     33\u001b[0m sd_mid \u001b[38;5;241m=\u001b[39m interpolate_state_dicts(model_mid\u001b[38;5;241m.\u001b[39mstate_dict(), model_s[i]\u001b[38;5;241m.\u001b[39mstate_dict(), t, use_slerp\u001b[38;5;241m=\u001b[39muse_slerp)\n\u001b[1;32m     34\u001b[0m model_mid\u001b[38;5;241m.\u001b[39mload_state_dict(sd_mid)\n\u001b[0;32m---> 35\u001b[0m acc_mid \u001b[38;5;241m=\u001b[39m validate_snn(model_mid, test_loader, n_steps, thresholds, device, verbose\u001b[38;5;241m=\u001b[39m\u001b[38;5;241m0\u001b[39m)\n\u001b[1;32m     36\u001b[0m \u001b[38;5;28mprint\u001b[39m(\u001b[38;5;124mf\u001b[39m\u001b[38;5;124m'\u001b[39m\u001b[38;5;124macc: \u001b[39m\u001b[38;5;132;01m{\u001b[39;00macc_mid\u001b[38;5;132;01m}\u001b[39;00m\u001b[38;5;124m'\u001b[39m)\n\u001b[1;32m     37\u001b[0m \u001b[38;5;66;03m# reset_bn_stats(model_mid, device, train_loader, n_steps, layerwise=False, ann=False)\u001b[39;00m\n\u001b[1;32m     38\u001b[0m \u001b[38;5;66;03m# acc_mid_reset = validate_snn(model_mid, test_loader, n_steps, thresholds, device, verbose=0)\u001b[39;00m\n\u001b[1;32m     39\u001b[0m \u001b[38;5;66;03m# print(f'reset acc: {acc_mid_reset}')\u001b[39;00m\n\u001b[0;32m   (...)\u001b[0m\n\u001b[1;32m     44\u001b[0m \u001b[38;5;66;03m# else:\u001b[39;00m\n\u001b[1;32m     45\u001b[0m \u001b[38;5;66;03m#     acc_best = acc_mid_reset\u001b[39;00m\n",
      "\u001b[0;31mTypeError\u001b[0m: validate_snn() got multiple values for argument 'verbose'"
     ]
    }
   ],
   "source": [
    "def grid_search(model_1, model_2, grid, use_slerp=False):\n",
    "    t_best = None\n",
    "    acc_best = -1\n",
    "    for t in grid:\n",
    "        sd_mid = interpolate_state_dicts(model_1.state_dict(), model_2.state_dict(), t, use_slerp=use_slerp)\n",
    "        model_mid.load_state_dict(sd_mid)\n",
    "        acc_mid = validate_snn(model_mid, test_loader, n_steps, device, verbose=0)\n",
    "        if acc_mid > acc_best:\n",
    "            acc_best = acc_mid\n",
    "            t_best = t\n",
    "    return sd_mid, acc_best, t_best\n",
    "        \n",
    "\n",
    "# 1: sort indices by acc_s in descending order\n",
    "sorted_indices = np.argsort(acc_s)[::-1]\n",
    "acc_cur = -1\n",
    "model_mid = None\n",
    "num_merged = 0\n",
    "merged_indices = []\n",
    "use_slerp = True\n",
    "print(f\"use_slerp: {use_slerp}\")\n",
    "for i in sorted_indices:\n",
    "    print(f\"test model {i}\")\n",
    "    if model_mid is None:\n",
    "        model_mid = deepcopy(model_s[i])\n",
    "        acc_cur = acc_s[i]\n",
    "        print(f\"add model {i}, current acc: {acc_cur}\" + \"\\n\")\n",
    "        num_merged += 1\n",
    "        merged_indices.append(i)\n",
    "    else:\n",
    "        sd_mid_ori = deepcopy(model_mid.state_dict())\n",
    "        t = 1 / (num_merged + 1)\n",
    "        sd_mid = interpolate_state_dicts(model_mid.state_dict(), model_s[i].state_dict(), t, use_slerp=use_slerp)\n",
    "        model_mid.load_state_dict(sd_mid)\n",
    "        acc_mid = validate_snn(model_mid, test_loader, n_steps, device, verbose=0)\n",
    "        print(f'acc: {acc_mid}')\n",
    "        # reset_bn_stats(model_mid, device, train_loader, n_steps, layerwise=False, ann=False)\n",
    "        # acc_mid_reset = validate_snn(model_mid, test_loader, n_steps, device, verbose=0)\n",
    "        # print(f'reset acc: {acc_mid_reset}')\n",
    "\n",
    "        # if acc_mid > acc_mid_reset:\n",
    "        #     model_mid.load_state_dict(sd_mid)\n",
    "        #     acc_best = acc_mid\n",
    "        # else:\n",
    "        #     acc_best = acc_mid_reset\n",
    "        if acc_mid > acc_cur: # use acc_mid for comparison or acc_best\n",
    "            acc_cur = acc_mid\n",
    "            print(f\"add model {i}, current acc: {acc_cur}\" + \"\\n\")\n",
    "            num_merged += 1\n",
    "            merged_indices.append(i)\n",
    "        else:\n",
    "            print('\\n')\n",
    "            model_mid.load_state_dict(sd_mid_ori)"
   ]
  },
  {
   "cell_type": "code",
   "execution_count": 51,
   "metadata": {},
   "outputs": [
    {
     "name": "stdout",
     "output_type": "stream",
     "text": [
      "Accuracy of the network on the test images: 92.350000\n",
      "Accuracy of the network on the test images: 92.360000\n",
      "Accuracy of the network on the test images: 92.530000\n",
      "Accuracy of the network on the test images: 92.180000\n",
      "Accuracy of the network on the test images: 92.220000\n",
      "Accuracy of the network on the test images: 92.540000\n",
      "Accuracy of the network on the test images: 92.460000\n",
      "Accuracy of the network on the test images: 92.360000\n",
      "Accuracy of the network on the test images: 92.360000\n",
      "Accuracy of the network on the test images: 92.370000\n"
     ]
    }
   ],
   "source": [
    "for _ in range(10):\n",
    "    reset_bn_stats(model_mid, device, train_loader, n_steps, layerwise=False, ann=False)\n",
    "    validate_snn(model_mid, test_loader, n_steps, device)"
   ]
  },
  {
   "cell_type": "markdown",
   "metadata": {},
   "source": [
    "#### grid search on t"
   ]
  },
  {
   "cell_type": "code",
   "execution_count": 14,
   "metadata": {},
   "outputs": [
    {
     "data": {
      "text/plain": [
       "array([11,  0, 10, 12,  1,  4,  2,  8,  9,  6, 13,  7,  5,  3])"
      ]
     },
     "execution_count": 14,
     "metadata": {},
     "output_type": "execute_result"
    }
   ],
   "source": [
    "sorted_indices"
   ]
  },
  {
   "cell_type": "code",
   "execution_count": 13,
   "metadata": {},
   "outputs": [
    {
     "data": {
      "text/plain": [
       "[92.44,\n",
       " 92.42,\n",
       " 92.39,\n",
       " 92.09,\n",
       " 92.4,\n",
       " 92.09,\n",
       " 92.18,\n",
       " 92.13,\n",
       " 92.38,\n",
       " 92.3,\n",
       " 92.43,\n",
       " 92.61,\n",
       " 92.42,\n",
       " 92.17]"
      ]
     },
     "execution_count": 13,
     "metadata": {},
     "output_type": "execute_result"
    }
   ],
   "source": [
    "acc_s"
   ]
  },
  {
   "cell_type": "code",
   "execution_count": 61,
   "metadata": {},
   "outputs": [
    {
     "name": "stdout",
     "output_type": "stream",
     "text": [
      "Accuracy of the network on the test images: 90.010000\n",
      "Accuracy of the network on the test images: 89.870000\n",
      "Accuracy of the network on the test images: 89.810000\n",
      "Accuracy of the network on the test images: 89.930000\n",
      "Accuracy of the network on the test images: 90.310000\n",
      "Accuracy of the network on the test images: 89.900000\n",
      "Accuracy of the network on the test images: 90.160000\n",
      "Accuracy of the network on the test images: 89.950000\n",
      "Accuracy of the network on the test images: 90.100000\n",
      "Accuracy of the network on the test images: 89.940000\n",
      "Accuracy of the network on the test images: 89.790000\n",
      "Accuracy of the network on the test images: 89.980000\n",
      "Accuracy of the network on the test images: 90.270000\n",
      "Accuracy of the network on the test images: 90.130000\n",
      "Accuracy of the network on the test images: 89.920000\n",
      "Accuracy of the network on the test images: 90.060000\n",
      "Accuracy of the network on the test images: 89.710000\n",
      "Accuracy of the network on the test images: 90.000000\n",
      "Accuracy of the network on the test images: 89.740000\n",
      "Accuracy of the network on the test images: 90.040000\n"
     ]
    }
   ],
   "source": [
    "# two models\n",
    "merged_indices = [0, 1]\n",
    "merged_sds = [sd_s[i] for i in merged_indices]\n",
    "t_s = np.linspace(0.52, 0.53, 20)\n",
    "acc_t_s = []\n",
    "for t in t_s:\n",
    "    merged_weights = [t, 1-t]\n",
    "    sd_mid = interpolate_multi_state_dicts(merged_sds, merged_weights, use_slerp=True)\n",
    "    # sd_mid = interpolate_state_dicts(merged_sds[0], merged_sds[1], 0.5, use_slerp=True)\n",
    "    model_mid.load_state_dict(sd_mid)\n",
    "    model_mid = model_mid.to(device)\n",
    "    acc_mid = validate_snn(model_mid, test_loader, n_steps, device)\n",
    "    acc_t_s.append(acc_mid)\n",
    "t_acc_dict = {t: acc for t, acc in zip(t_s, acc_t_s)}"
   ]
  },
  {
   "cell_type": "code",
   "execution_count": 42,
   "metadata": {},
   "outputs": [
    {
     "data": {
      "text/plain": [
       "{0.4: 92.03,\n",
       " 0.4105263157894737: 92.22,\n",
       " 0.4210526315789474: 92.17,\n",
       " 0.43157894736842106: 92.22,\n",
       " 0.4421052631578948: 92.16,\n",
       " 0.45263157894736844: 92.24,\n",
       " 0.4631578947368421: 92.31,\n",
       " 0.4736842105263158: 92.2,\n",
       " 0.4842105263157895: 92.02,\n",
       " 0.49473684210526314: 92.25,\n",
       " 0.5052631578947369: 92.19,\n",
       " 0.5157894736842106: 92.13,\n",
       " 0.5263157894736842: 92.16,\n",
       " 0.5368421052631579: 92.48,\n",
       " 0.5473684210526315: 92.04,\n",
       " 0.5578947368421052: 92.16,\n",
       " 0.5684210526315789: 92.18,\n",
       " 0.5789473684210527: 92.27,\n",
       " 0.5894736842105264: 92.47,\n",
       " 0.6: 92.15}"
      ]
     },
     "execution_count": 42,
     "metadata": {},
     "output_type": "execute_result"
    }
   ],
   "source": [
    "t_acc_dict"
   ]
  },
  {
   "cell_type": "code",
   "execution_count": 46,
   "metadata": {},
   "outputs": [
    {
     "name": "stdout",
     "output_type": "stream",
     "text": [
      "Accuracy of the network on the test images: 91.890000\n"
     ]
    }
   ],
   "source": [
    "t = 0.5\n",
    "merged_weights = [t, 1-t]\n",
    "sd_mid = interpolate_multi_state_dicts(merged_sds, merged_weights, use_slerp=True)\n",
    "# sd_mid = interpolate_state_dicts(merged_sds[0], merged_sds[1], 0.5, use_slerp=True)\n",
    "model_mid.load_state_dict(sd_mid)\n",
    "model_mid = model_mid.to(device)\n",
    "acc_mid = validate_snn(model_mid, test_loader, n_steps, device)"
   ]
  },
  {
   "cell_type": "markdown",
   "metadata": {},
   "source": [
    "#### reset bn"
   ]
  },
  {
   "cell_type": "code",
   "execution_count": 47,
   "metadata": {},
   "outputs": [
    {
     "name": "stdout",
     "output_type": "stream",
     "text": [
      "Accuracy of the network on the test images: 92.310000\n",
      "Accuracy of the network on the test images: 92.200000\n",
      "Accuracy of the network on the test images: 92.360000\n",
      "Accuracy of the network on the test images: 92.280000\n",
      "Accuracy of the network on the test images: 92.140000\n",
      "Accuracy of the network on the test images: 92.240000\n",
      "Accuracy of the network on the test images: 92.120000\n",
      "Accuracy of the network on the test images: 91.870000\n",
      "Accuracy of the network on the test images: 92.560000\n",
      "Accuracy of the network on the test images: 92.580000\n"
     ]
    }
   ],
   "source": [
    "reset_acc_s = []\n",
    "# bn_loader, _ = datapool(args.dataset, 128, 0, shuffle=True)\n",
    "for _ in range(10):\n",
    "    bn_loader = train_loader\n",
    "    model_mid.load_state_dict(sd_mid)\n",
    "    reset_bn_stats(model_mid, device, bn_loader, n_steps, layerwise=False)\n",
    "    reset_acc_mid = validate_snn(model_mid, test_loader, n_steps, device)\n",
    "    # print(\"Training acc\", validate_snn(model_mid, bn_loader, n_steps, device))\n",
    "    reset_acc_s.append(reset_acc_mid)"
   ]
  },
  {
   "cell_type": "code",
   "execution_count": 38,
   "metadata": {},
   "outputs": [
    {
     "data": {
      "text/plain": [
       "92.68"
      ]
     },
     "execution_count": 38,
     "metadata": {},
     "output_type": "execute_result"
    }
   ],
   "source": [
    "max(reset_acc_s)"
   ]
  },
  {
   "cell_type": "markdown",
   "metadata": {},
   "source": [
    "#### try fine-tuning to tune bn statistics"
   ]
  },
  {
   "cell_type": "code",
   "execution_count": 79,
   "metadata": {},
   "outputs": [],
   "source": [
    "def train_snn(train_dataloader, test_dataloader, model, epochs, device, loss_fn, lr=0.1, wd=5e-4):\n",
    "    model = model.to(device)\n",
    "    optimizer = torch.optim.SGD(model.parameters(), lr=lr,momentum=0.9,weight_decay=wd) \n",
    "    scheduler = torch.optim.lr_scheduler.CosineAnnealingLR(optimizer, T_max=epochs,verbose=True)\n",
    "    for epoch in range(epochs):\n",
    "        model.train()\n",
    "        epoch_loss = 0\n",
    "        length = 0\n",
    "        total = 0\n",
    "        correct = 0\n",
    "        for img, label in train_dataloader:\n",
    "            img = add_dimension(img,n_steps)\n",
    "            img = img.cuda(device)\n",
    "            \n",
    "            labels = label.cuda(device)\n",
    "            outputs = model(img,thresholds,L=0,t=n_steps) \n",
    "            outputs = torch.sum(outputs,1)\n",
    "            optimizer.zero_grad()\n",
    "            loss = loss_fn(outputs/n_steps, labels)\n",
    "\n",
    "            with torch.autograd.set_detect_anomaly(True):\n",
    "                loss.backward()\n",
    "                optimizer.step()\n",
    "                \n",
    "            epoch_loss += loss.item()*img.shape[0]\n",
    "            length += len(label)\n",
    "            _, predicted = torch.max(outputs.data, 1)\n",
    "\n",
    "            #print(predicted)\n",
    "            total += labels.size(0)\n",
    "            correct += (predicted == labels).sum().item()\n",
    "            if total%(256*8) == 0:\n",
    "                print('Epoch:%d, Accuracy of the snn network on the %d train images: %f, loss:%f'%(epoch,total,100 * correct / total,epoch_loss/total))\n",
    "        print('Epoch:%d, Accuracy of the snn network on the %d train images: %f, loss:%f'%(epoch,total,100 * correct / total,epoch_loss/total))\n",
    "        scheduler.step()\n",
    "        validate_snn(model, test_dataloader, n_steps, thresholds, device)\n",
    "model_mid.load_state_dict(sd_mid) \n",
    "train_snn(train_loader, test_loader, model_mid, 5, device, criterion, lr=1e-5, wd=5e-4)"
   ]
  },
  {
   "cell_type": "code",
   "execution_count": 119,
   "metadata": {},
   "outputs": [],
   "source": [
    "th = np.load('cifar10_vgg16_0_threshold_all_noaug2.npy')"
   ]
  },
  {
   "cell_type": "code",
   "execution_count": 32,
   "metadata": {},
   "outputs": [],
   "source": [
    "acc = np.load('logs/cifar10_vgg16_3_updated_snn1_test_acc_1_v22.npy')"
   ]
  },
  {
   "cell_type": "code",
   "execution_count": 33,
   "metadata": {},
   "outputs": [
    {
     "data": {
      "text/plain": [
       "array(91.95)"
      ]
     },
     "execution_count": 33,
     "metadata": {},
     "output_type": "execute_result"
    }
   ],
   "source": [
    "acc"
   ]
  },
  {
   "cell_type": "markdown",
   "metadata": {},
   "source": [
    "#### bn statistics simple tricks"
   ]
  },
  {
   "cell_type": "code",
   "execution_count": 68,
   "metadata": {},
   "outputs": [
    {
     "name": "stdout",
     "output_type": "stream",
     "text": [
      "Accuracy of the network on the test images: 92.440000\n"
     ]
    },
    {
     "data": {
      "text/plain": [
       "92.44"
      ]
     },
     "execution_count": 68,
     "metadata": {},
     "output_type": "execute_result"
    }
   ],
   "source": [
    "model_test = deepcopy(model_s[0])\n",
    "model_test.float()\n",
    "validate_snn(model_test, test_loader, n_steps, device)"
   ]
  },
  {
   "cell_type": "markdown",
   "metadata": {},
   "source": [
    "##### continue update bn statistics"
   ]
  },
  {
   "cell_type": "code",
   "execution_count": null,
   "metadata": {},
   "outputs": [],
   "source": [
    "model_test = deepcopy(model_s[0])\n",
    "model_test.float().train().to(device)\n",
    "for module in model_test.modules():\n",
    "    if isinstance(module, nn.BatchNorm2d):\n",
    "        module.momentum = None\n",
    "test_acc_s = []"
   ]
  },
  {
   "cell_type": "code",
   "execution_count": 82,
   "metadata": {},
   "outputs": [
    {
     "name": "stdout",
     "output_type": "stream",
     "text": [
      "Accuracy of the network on the test images: 92.330000\n",
      "Accuracy of the network on the test images: 92.360000\n",
      "Accuracy of the network on the test images: 92.230000\n",
      "Accuracy of the network on the test images: 92.080000\n",
      "Accuracy of the network on the test images: 92.060000\n",
      "Accuracy of the network on the test images: 92.020000\n",
      "Accuracy of the network on the test images: 91.970000\n",
      "Accuracy of the network on the test images: 91.910000\n",
      "Accuracy of the network on the test images: 92.050000\n",
      "Accuracy of the network on the test images: 92.190000\n"
     ]
    }
   ],
   "source": [
    "for _ in range(10):\n",
    "    model_test.train().to(device)\n",
    "    with torch.no_grad():\n",
    "        for data, _ in train_loader:\n",
    "            data = add_dimension(data, n_steps)\n",
    "            data = data.to(device)\n",
    "            model_test(data, L=0, t=n_steps)\n",
    "            model_test.zero_grad()\n",
    "    model_test.eval()\n",
    "    test_acc_s.append(validate_snn(model_test, test_loader, n_steps, device))"
   ]
  },
  {
   "cell_type": "markdown",
   "metadata": {},
   "source": [
    "#### snn distillation"
   ]
  },
  {
   "cell_type": "code",
   "execution_count": 93,
   "metadata": {},
   "outputs": [
    {
     "name": "stdout",
     "output_type": "stream",
     "text": [
      "Accuracy of the network on the test images: 92.440000\n",
      "Accuracy of the network on the test images: 92.420000\n",
      "Accuracy of the network on the test images: 93.420000\n"
     ]
    },
    {
     "data": {
      "text/plain": [
       "93.42"
      ]
     },
     "execution_count": 93,
     "metadata": {},
     "output_type": "execute_result"
    }
   ],
   "source": [
    "model_merge_1 = deepcopy(model_s[0]).float()\n",
    "model_merge_2 = deepcopy(model_s[1]).float()\n",
    "validate_snn(model_merge_1, test_loader, n_steps, device)\n",
    "validate_snn(model_merge_2, test_loader, n_steps, device)\n",
    "validate_snn_ensemble([model_merge_1, model_merge_2], test_loader, n_steps, device)"
   ]
  },
  {
   "cell_type": "code",
   "execution_count": 109,
   "metadata": {},
   "outputs": [
    {
     "name": "stdout",
     "output_type": "stream",
     "text": [
      "Accuracy of the network on the test images: 91.870000\n"
     ]
    },
    {
     "data": {
      "text/plain": [
       "91.87"
      ]
     },
     "execution_count": 109,
     "metadata": {},
     "output_type": "execute_result"
    }
   ],
   "source": [
    "model_mid = deepcopy(model_s[0]).float()\n",
    "sd_mid = interpolate_state_dicts(model_merge_1.state_dict(), model_merge_2.state_dict(), 0.5)\n",
    "model_mid.load_state_dict(sd_mid)\n",
    "validate_snn(model_mid, test_loader, n_steps, device)\n",
    "# reset_bn_stats(model_mid, device, train_loader, n_steps, layerwise=False, ann=False)\n",
    "# validate_snn(model_mid, test_loader, n_steps, device)"
   ]
  },
  {
   "cell_type": "code",
   "execution_count": 144,
   "metadata": {},
   "outputs": [],
   "source": [
    "sd_mid = interpolate_state_dicts(model_merge_1.state_dict(), model_merge_2.state_dict(), 0.5)"
   ]
  },
  {
   "cell_type": "code",
   "execution_count": 119,
   "metadata": {},
   "outputs": [
    {
     "name": "stdout",
     "output_type": "stream",
     "text": [
      "Files already downloaded and verified\n"
     ]
    }
   ],
   "source": [
    "from torchvision import datasets, transforms\n",
    "from torch.utils.data import DataLoader\n",
    "\n",
    "trans_train = transforms.Compose([transforms.RandomCrop(32, padding=4),\n",
    "                            transforms.RandomHorizontalFlip(),\n",
    "                            transforms.ToTensor(),\n",
    "                            transforms.Normalize((0.4914, 0.4822, 0.4465), (0.2023, 0.1994, 0.2010))])\n",
    "train_data = datasets.CIFAR10('datasets', train=True, transform=trans_train, download=True)\n",
    "disllation_dataloader = DataLoader(train_data, batch_size=128, shuffle=True, num_workers=2)"
   ]
  },
  {
   "cell_type": "code",
   "execution_count": 137,
   "metadata": {},
   "outputs": [
    {
     "name": "stderr",
     "output_type": "stream",
     "text": [
      "/home/xingyu/anaconda3/envs/default/lib/python3.11/site-packages/torch/optim/lr_scheduler.py:60: UserWarning: The verbose parameter is deprecated. Please use get_last_lr() to access the learning rate.\n",
      "  warnings.warn(\n"
     ]
    },
    {
     "name": "stdout",
     "output_type": "stream",
     "text": [
      "Batch 1, acc: 91.33\n",
      "Batch 2, acc: 91.68\n",
      "Batch 3, acc: 91.69\n",
      "Epoch:0, Accuracy of the snn network on the 50000 train images: 96.700000, loss:0.035763, mse_loss:0.011126, ce_loss:0.134309\n",
      "Accuracy of the network on the test images: 91.580000\n",
      "Batch 1, acc: 91.7\n",
      "Batch 2, acc: 91.9\n",
      "Batch 3, acc: 92.05\n",
      "Epoch:1, Accuracy of the snn network on the 50000 train images: 96.976000, loss:0.033190, mse_loss:0.010924, ce_loss:0.122254\n",
      "Accuracy of the network on the test images: 91.860000\n",
      "Batch 1, acc: 92.04\n",
      "Batch 2, acc: 91.6\n",
      "Batch 3, acc: 91.72\n",
      "Epoch:2, Accuracy of the snn network on the 50000 train images: 97.088000, loss:0.032057, mse_loss:0.010861, ce_loss:0.116842\n",
      "Accuracy of the network on the test images: 91.120000\n",
      "Batch 1, acc: 92.06\n",
      "Batch 2, acc: 91.78\n",
      "Batch 3, acc: 91.79\n",
      "Epoch:3, Accuracy of the snn network on the 50000 train images: 97.282000, loss:0.030613, mse_loss:0.010742, ce_loss:0.110098\n",
      "Accuracy of the network on the test images: 91.840000\n",
      "Batch 1, acc: 92.36\n",
      "Batch 2, acc: 91.82\n",
      "Batch 3, acc: 92.22\n",
      "Epoch:4, Accuracy of the snn network on the 50000 train images: 97.206000, loss:0.031170, mse_loss:0.010796, ce_loss:0.112665\n",
      "Accuracy of the network on the test images: 92.160000\n",
      "Batch 1, acc: 92.16\n",
      "Batch 2, acc: 91.82\n",
      "Batch 3, acc: 91.75\n",
      "Epoch:5, Accuracy of the snn network on the 50000 train images: 97.390000, loss:0.030436, mse_loss:0.010627, ce_loss:0.109674\n",
      "Accuracy of the network on the test images: 91.860000\n",
      "Batch 1, acc: 91.89\n",
      "Batch 2, acc: 91.67\n",
      "Batch 3, acc: 91.77\n",
      "Epoch:6, Accuracy of the snn network on the 50000 train images: 97.510000, loss:0.029476, mse_loss:0.010645, ce_loss:0.104800\n",
      "Accuracy of the network on the test images: 92.160000\n",
      "Batch 1, acc: 92.71\n",
      "Batch 2, acc: 91.54\n",
      "Batch 3, acc: 91.97\n",
      "Epoch:7, Accuracy of the snn network on the 50000 train images: 97.522000, loss:0.029340, mse_loss:0.010531, ce_loss:0.104575\n",
      "Accuracy of the network on the test images: 92.090000\n",
      "Batch 1, acc: 92.28\n",
      "Batch 2, acc: 91.85\n",
      "Batch 3, acc: 91.92\n",
      "Epoch:8, Accuracy of the snn network on the 50000 train images: 97.460000, loss:0.029330, mse_loss:0.010425, ce_loss:0.104949\n",
      "Accuracy of the network on the test images: 92.090000\n",
      "Batch 1, acc: 92.34\n",
      "Batch 2, acc: 91.63\n",
      "Batch 3, acc: 91.89\n",
      "Epoch:9, Accuracy of the snn network on the 50000 train images: 97.732000, loss:0.027965, mse_loss:0.010140, ce_loss:0.099268\n",
      "Accuracy of the network on the test images: 92.230000\n"
     ]
    }
   ],
   "source": [
    "import torch.nn.functional as F\n",
    "\n",
    "model_mid.load_state_dict(sd_mid)\n",
    "# optimizer = torch.optim.SGD(model_mid.parameters(), lr=1e-4, momentum=0.9, weight_decay=5e-4)\n",
    "optimizer = torch.optim.AdamW(model_mid.parameters(), lr=1.5e-5, weight_decay=5e-4)\n",
    "total_epochs = 10\n",
    "num_batches = len(disllation_dataloader)\n",
    "total_steps = total_epochs * num_batches\n",
    "scheduler = torch.optim.lr_scheduler.CosineAnnealingLR(optimizer, T_max=total_steps, verbose=True)\n",
    "mse_criterion = nn.MSELoss()\n",
    "ce_criterion = nn.CrossEntropyLoss()\n",
    "for epoch in range(total_epochs):\n",
    "    model_mid = model_mid.to(device).train().float()\n",
    "    model_merge_1.eval().to(device).float()\n",
    "    model_merge_2.eval().to(device).float()\n",
    "    \n",
    "    epoch_loss = 0\n",
    "    epoch_loss_mse = 0\n",
    "    epoch_loss_ce = 0\n",
    "    length = 0\n",
    "    total = 0\n",
    "    correct = 0\n",
    "    for img, label in disllation_dataloader:\n",
    "        img = add_dimension(img, n_steps)\n",
    "        img = img.to(device)\n",
    "        \n",
    "        labels = label.cuda(device)\n",
    "        outputs = model_mid(img, L=0, t=n_steps) \n",
    "        outputs = torch.mean(outputs, 1)\n",
    "        \n",
    "        outputs_1 = model_merge_1(img, L=0, t=n_steps)\n",
    "        outputs_1 = torch.mean(outputs_1,1)\n",
    "        outputs_2 = model_merge_2(img, L=0, t=n_steps)\n",
    "        outputs_2 = torch.mean(outputs_2,1)\n",
    "        outputs_ensemble = (outputs_1 + outputs_2) / 2\n",
    "        \n",
    "        optimizer.zero_grad()\n",
    "        temperature = 3\n",
    "        mse_loss = F.kl_div(\n",
    "                    F.log_softmax(outputs / temperature, dim=1),\n",
    "                    F.softmax(outputs_ensemble / temperature, dim=1),\n",
    "                    reduction=\"batchmean\")\n",
    "        # mse_loss = torch.tensor(0).to(device)\n",
    "        ce_loss = ce_criterion(outputs, labels)\n",
    "        alpha = 0.8\n",
    "        loss = alpha * mse_loss + ce_loss * (1-alpha)\n",
    "\n",
    "        with torch.autograd.set_detect_anomaly(True):\n",
    "            loss.backward()\n",
    "            optimizer.step()\n",
    "            \n",
    "        epoch_loss += loss.item()*img.shape[0]\n",
    "        epoch_loss_mse += mse_loss.item()*img.shape[0]\n",
    "        epoch_loss_ce += ce_loss.item()*img.shape[0]\n",
    "        length += len(label)\n",
    "        _, predicted = torch.max(outputs.data, 1)\n",
    "\n",
    "        #print(predicted)\n",
    "        total += labels.size(0)\n",
    "        correct += (predicted == labels).sum().item()\n",
    "        # print('Epoch:%d, Accuracy of the snn network on the %d train images: %f, loss:%f'%(epoch,total,100 * correct / total,epoch_loss/total))\n",
    "        if total%(128*100) == 0:\n",
    "            cur_acc = validate_snn(model_mid, test_loader, n_steps, device, verbose=0)\n",
    "            print(f'Batch {total//(128*100)}, acc: {cur_acc}')\n",
    "    print('Epoch:%d, Accuracy of the snn network on the %d train images: %f, loss:%f, mse_loss:%f, ce_loss:%f'%(epoch,total,100 * correct / total,epoch_loss/total, epoch_loss_mse/total, epoch_loss_ce/total))\n",
    "    scheduler.step()\n",
    "    validate_snn(model_mid, test_loader, n_steps, device)"
   ]
  },
  {
   "cell_type": "code",
   "execution_count": null,
   "metadata": {},
   "outputs": [],
   "source": []
  },
  {
   "cell_type": "code",
   "execution_count": null,
   "metadata": {},
   "outputs": [],
   "source": [
    "for key in sd_mid:\n",
    "    if \"running\" in key:\n",
    "        plt.plot(sd_mid[key].flatten(), label='before')\n",
    "        plt.plot(model_mid.state_dict()[key].to('cpu').detach().flatten(), label='after')\n",
    "        plt.title(key)\n",
    "        plt.legend()\n",
    "        plt.show()"
   ]
  },
  {
   "cell_type": "code",
   "execution_count": null,
   "metadata": {},
   "outputs": [],
   "source": [
    "for key in sd_mid:\n",
    "    if \"running\" not in key and 'batch' not in key:\n",
    "        # plt.plot(sd_mid[key].flatten(), label='before')\n",
    "        plt.plot(model_merge_1.state_dict()[key].to('cpu').detach().flatten(), label='before')\n",
    "        plt.plot(model_mid.state_dict()[key].to('cpu').detach().flatten(), label='after')\n",
    "        plt.title(key)\n",
    "        plt.legend()\n",
    "        plt.show()"
   ]
  },
  {
   "cell_type": "markdown",
   "metadata": {},
   "source": [
    "##### train bn statistics"
   ]
  },
  {
   "cell_type": "code",
   "execution_count": 194,
   "metadata": {},
   "outputs": [],
   "source": [
    "import torch\n",
    "\n",
    "import torch.nn as nn\n",
    "\n",
    "class TrainableBatchNorm2d(nn.Module):\n",
    "    def __init__(self, bn_layer):\n",
    "        super(TrainableBatchNorm2d, self).__init__()\n",
    "        self.num_features = bn_layer.num_features\n",
    "        self.eps = bn_layer.eps\n",
    "        self.weight = nn.Parameter(bn_layer.weight.clone())\n",
    "        self.bias = nn.Parameter(bn_layer.bias.clone())\n",
    "        self.running_mean = nn.Parameter(bn_layer.running_mean.clone())\n",
    "        self.running_var = nn.Parameter(bn_layer.running_var.clone())\n",
    "\n",
    "    def forward(self, x):\n",
    "        scale = self.weight / (self.running_var + self.eps).sqrt()\n",
    "        shift = self.bias - self.running_mean * scale\n",
    "        return x * scale[None, :, None, None] + shift[None, :, None, None]\n",
    "\n",
    "def replace_by_trainable_bn(model, device):\n",
    "    for name, module in model.named_children():\n",
    "        if isinstance(module, nn.BatchNorm2d):\n",
    "            setattr(model, name, TrainableBatchNorm2d(module).to(device))\n",
    "        else:\n",
    "            replace_by_trainable_bn(module, device)\n",
    "# Example usage:\n",
    "# Assuming `bn_layer` is an instance of nn.BatchNorm2d\n",
    "# trainable_bn = TrainableBatchNorm2d(bn_layer)\n",
    "# output = trainable_bn(input_tensor)"
   ]
  },
  {
   "cell_type": "code",
   "execution_count": 193,
   "metadata": {},
   "outputs": [],
   "source": [
    "model_mid = deepcopy(model_s[0])\n",
    "model_mid.load_state_dict(sd_mid)\n",
    "model_mid.to(device).float()\n",
    "replace_by_trainable_bn(model_mid, device)"
   ]
  },
  {
   "cell_type": "code",
   "execution_count": 181,
   "metadata": {},
   "outputs": [
    {
     "name": "stdout",
     "output_type": "stream",
     "text": [
      "Accuracy of the network on the test images: 91.860000\n"
     ]
    },
    {
     "data": {
      "text/plain": [
       "91.86"
      ]
     },
     "execution_count": 181,
     "metadata": {},
     "output_type": "execute_result"
    }
   ],
   "source": [
    "validate_snn(model_mid, test_loader, n_steps, device)"
   ]
  },
  {
   "cell_type": "code",
   "execution_count": 212,
   "metadata": {},
   "outputs": [
    {
     "name": "stderr",
     "output_type": "stream",
     "text": [
      "/home/xingyu/anaconda3/envs/default/lib/python3.11/site-packages/torch/optim/lr_scheduler.py:60: UserWarning: The verbose parameter is deprecated. Please use get_last_lr() to access the learning rate.\n",
      "  warnings.warn(\n"
     ]
    },
    {
     "name": "stdout",
     "output_type": "stream",
     "text": [
      "Batch 1, acc: 92.21\n",
      "Batch 2, acc: 92.07\n",
      "Batch 3, acc: 92.1\n",
      "Epoch:0, Accuracy of the snn network on the 50000 train images: 97.558000, loss:0.038533, mse_loss:0.038533, ce_loss:0.120966\n",
      "Accuracy of the network on the test images: 92.190000\n",
      "Batch 1, acc: 91.95\n",
      "Batch 2, acc: 92.13\n",
      "Batch 3, acc: 92.39\n",
      "Epoch:1, Accuracy of the snn network on the 50000 train images: 97.496000, loss:0.039244, mse_loss:0.039244, ce_loss:0.125815\n",
      "Accuracy of the network on the test images: 92.260000\n",
      "Batch 1, acc: 92.05\n",
      "Batch 2, acc: 91.9\n",
      "Batch 3, acc: 92.22\n",
      "Epoch:2, Accuracy of the snn network on the 50000 train images: 97.450000, loss:0.038758, mse_loss:0.038758, ce_loss:0.126071\n",
      "Accuracy of the network on the test images: 92.230000\n",
      "Batch 1, acc: 91.92\n",
      "Batch 2, acc: 92.23\n",
      "Batch 3, acc: 92.26\n",
      "Epoch:3, Accuracy of the snn network on the 50000 train images: 97.408000, loss:0.039557, mse_loss:0.039557, ce_loss:0.125944\n",
      "Accuracy of the network on the test images: 92.270000\n"
     ]
    },
    {
     "ename": "KeyboardInterrupt",
     "evalue": "",
     "output_type": "error",
     "traceback": [
      "\u001b[0;31m---------------------------------------------------------------------------\u001b[0m",
      "\u001b[0;31mKeyboardInterrupt\u001b[0m                         Traceback (most recent call last)",
      "Cell \u001b[0;32mIn[212], line 59\u001b[0m\n\u001b[1;32m     56\u001b[0m loss \u001b[38;5;241m=\u001b[39m alpha \u001b[38;5;241m*\u001b[39m mse_loss \u001b[38;5;241m+\u001b[39m ce_loss \u001b[38;5;241m*\u001b[39m (\u001b[38;5;241m1\u001b[39m\u001b[38;5;241m-\u001b[39malpha)\n\u001b[1;32m     58\u001b[0m \u001b[38;5;28;01mwith\u001b[39;00m torch\u001b[38;5;241m.\u001b[39mautograd\u001b[38;5;241m.\u001b[39mset_detect_anomaly(\u001b[38;5;28;01mTrue\u001b[39;00m):\n\u001b[0;32m---> 59\u001b[0m     loss\u001b[38;5;241m.\u001b[39mbackward()\n\u001b[1;32m     60\u001b[0m     optimizer\u001b[38;5;241m.\u001b[39mstep()\n\u001b[1;32m     62\u001b[0m epoch_loss \u001b[38;5;241m+\u001b[39m\u001b[38;5;241m=\u001b[39m loss\u001b[38;5;241m.\u001b[39mitem()\u001b[38;5;241m*\u001b[39mimg\u001b[38;5;241m.\u001b[39mshape[\u001b[38;5;241m0\u001b[39m]\n",
      "File \u001b[0;32m~/anaconda3/envs/default/lib/python3.11/site-packages/torch/_tensor.py:521\u001b[0m, in \u001b[0;36mTensor.backward\u001b[0;34m(self, gradient, retain_graph, create_graph, inputs)\u001b[0m\n\u001b[1;32m    511\u001b[0m \u001b[38;5;28;01mif\u001b[39;00m has_torch_function_unary(\u001b[38;5;28mself\u001b[39m):\n\u001b[1;32m    512\u001b[0m     \u001b[38;5;28;01mreturn\u001b[39;00m handle_torch_function(\n\u001b[1;32m    513\u001b[0m         Tensor\u001b[38;5;241m.\u001b[39mbackward,\n\u001b[1;32m    514\u001b[0m         (\u001b[38;5;28mself\u001b[39m,),\n\u001b[0;32m   (...)\u001b[0m\n\u001b[1;32m    519\u001b[0m         inputs\u001b[38;5;241m=\u001b[39minputs,\n\u001b[1;32m    520\u001b[0m     )\n\u001b[0;32m--> 521\u001b[0m torch\u001b[38;5;241m.\u001b[39mautograd\u001b[38;5;241m.\u001b[39mbackward(\n\u001b[1;32m    522\u001b[0m     \u001b[38;5;28mself\u001b[39m, gradient, retain_graph, create_graph, inputs\u001b[38;5;241m=\u001b[39minputs\n\u001b[1;32m    523\u001b[0m )\n",
      "File \u001b[0;32m~/anaconda3/envs/default/lib/python3.11/site-packages/torch/autograd/__init__.py:289\u001b[0m, in \u001b[0;36mbackward\u001b[0;34m(tensors, grad_tensors, retain_graph, create_graph, grad_variables, inputs)\u001b[0m\n\u001b[1;32m    284\u001b[0m     retain_graph \u001b[38;5;241m=\u001b[39m create_graph\n\u001b[1;32m    286\u001b[0m \u001b[38;5;66;03m# The reason we repeat the same comment below is that\u001b[39;00m\n\u001b[1;32m    287\u001b[0m \u001b[38;5;66;03m# some Python versions print out the first line of a multi-line function\u001b[39;00m\n\u001b[1;32m    288\u001b[0m \u001b[38;5;66;03m# calls in the traceback and some print out the last line\u001b[39;00m\n\u001b[0;32m--> 289\u001b[0m _engine_run_backward(\n\u001b[1;32m    290\u001b[0m     tensors,\n\u001b[1;32m    291\u001b[0m     grad_tensors_,\n\u001b[1;32m    292\u001b[0m     retain_graph,\n\u001b[1;32m    293\u001b[0m     create_graph,\n\u001b[1;32m    294\u001b[0m     inputs,\n\u001b[1;32m    295\u001b[0m     allow_unreachable\u001b[38;5;241m=\u001b[39m\u001b[38;5;28;01mTrue\u001b[39;00m,\n\u001b[1;32m    296\u001b[0m     accumulate_grad\u001b[38;5;241m=\u001b[39m\u001b[38;5;28;01mTrue\u001b[39;00m,\n\u001b[1;32m    297\u001b[0m )\n",
      "File \u001b[0;32m~/anaconda3/envs/default/lib/python3.11/site-packages/torch/autograd/graph.py:769\u001b[0m, in \u001b[0;36m_engine_run_backward\u001b[0;34m(t_outputs, *args, **kwargs)\u001b[0m\n\u001b[1;32m    767\u001b[0m     unregister_hooks \u001b[38;5;241m=\u001b[39m _register_logging_hooks_on_whole_graph(t_outputs)\n\u001b[1;32m    768\u001b[0m \u001b[38;5;28;01mtry\u001b[39;00m:\n\u001b[0;32m--> 769\u001b[0m     \u001b[38;5;28;01mreturn\u001b[39;00m Variable\u001b[38;5;241m.\u001b[39m_execution_engine\u001b[38;5;241m.\u001b[39mrun_backward(  \u001b[38;5;66;03m# Calls into the C++ engine to run the backward pass\u001b[39;00m\n\u001b[1;32m    770\u001b[0m         t_outputs, \u001b[38;5;241m*\u001b[39margs, \u001b[38;5;241m*\u001b[39m\u001b[38;5;241m*\u001b[39mkwargs\n\u001b[1;32m    771\u001b[0m     )  \u001b[38;5;66;03m# Calls into the C++ engine to run the backward pass\u001b[39;00m\n\u001b[1;32m    772\u001b[0m \u001b[38;5;28;01mfinally\u001b[39;00m:\n\u001b[1;32m    773\u001b[0m     \u001b[38;5;28;01mif\u001b[39;00m attach_logging_hooks:\n",
      "\u001b[0;31mKeyboardInterrupt\u001b[0m: "
     ]
    }
   ],
   "source": [
    "import torch.nn.functional as F\n",
    "model_mid = deepcopy(model_s[0])\n",
    "model_mid.load_state_dict(sd_mid)\n",
    "replace_by_trainable_bn(model_mid, device)\n",
    "# optimizer = torch.optim.SGD(model_mid.parameters(), lr=1e-5, momentum=0.9, weight_decay=5e-4)\n",
    "optimizer = torch.optim.AdamW(model_mid.parameters(), lr=1e-4, weight_decay=5e-4)\n",
    "# freeze all parameters except weights and bias in TrainableBatchNorm2d\n",
    "for m in model_mid.modules():\n",
    "    if isinstance(m, TrainableBatchNorm2d):\n",
    "        m.weight.requires_grad = True\n",
    "        m.bias.requires_grad = False\n",
    "    else:\n",
    "        for param in m.parameters():\n",
    "            param.requires_grad = False\n",
    "\n",
    "total_epochs = 5\n",
    "num_batches = len(disllation_dataloader)\n",
    "total_steps = total_epochs * num_batches\n",
    "scheduler = torch.optim.lr_scheduler.CosineAnnealingLR(optimizer, T_max=total_steps, verbose=True)\n",
    "mse_criterion = nn.MSELoss()\n",
    "ce_criterion = nn.CrossEntropyLoss()\n",
    "for epoch in range(total_epochs):\n",
    "    model_mid = model_mid.to(device).float()\n",
    "    model_merge_1.eval().to(device).float()\n",
    "    model_merge_2.eval().to(device).float()\n",
    "    \n",
    "    epoch_loss = 0\n",
    "    epoch_loss_mse = 0\n",
    "    epoch_loss_ce = 0\n",
    "    length = 0\n",
    "    total = 0\n",
    "    correct = 0\n",
    "    for img, label in disllation_dataloader:\n",
    "        img = add_dimension(img, n_steps)\n",
    "        img = img.to(device)\n",
    "        \n",
    "        labels = label.cuda(device)\n",
    "        outputs = model_mid(img, L=0, t=n_steps) \n",
    "        outputs = torch.mean(outputs, 1)\n",
    "        \n",
    "        outputs_1 = model_merge_1(img, L=0, t=n_steps)\n",
    "        outputs_1 = torch.mean(outputs_1,1)\n",
    "        outputs_2 = model_merge_2(img, L=0, t=n_steps)\n",
    "        outputs_2 = torch.mean(outputs_2,1)\n",
    "        outputs_ensemble = (outputs_1 + outputs_2) / 2\n",
    "        \n",
    "        optimizer.zero_grad()\n",
    "        temperature = 1\n",
    "        mse_loss = F.kl_div(\n",
    "                    F.log_softmax(outputs / temperature, dim=1),\n",
    "                    F.softmax(outputs_ensemble / temperature, dim=1),\n",
    "                    reduction=\"batchmean\")\n",
    "        # mse_loss = torch.tensor(0).to(device)\n",
    "        ce_loss = ce_criterion(outputs, labels)\n",
    "        alpha = 1\n",
    "        loss = alpha * mse_loss + ce_loss * (1-alpha)\n",
    "\n",
    "        with torch.autograd.set_detect_anomaly(True):\n",
    "            loss.backward()\n",
    "            optimizer.step()\n",
    "            \n",
    "        epoch_loss += loss.item()*img.shape[0]\n",
    "        epoch_loss_mse += mse_loss.item()*img.shape[0]\n",
    "        epoch_loss_ce += ce_loss.item()*img.shape[0]\n",
    "        length += len(label)\n",
    "        _, predicted = torch.max(outputs.data, 1)\n",
    "\n",
    "        #print(predicted)\n",
    "        total += labels.size(0)\n",
    "        correct += (predicted == labels).sum().item()\n",
    "        # print('Epoch:%d, Accuracy of the snn network on the %d train images: %f, loss:%f'%(epoch,total,100 * correct / total,epoch_loss/total))\n",
    "        if total%(128*100) == 0:\n",
    "            cur_acc = validate_snn(model_mid, test_loader, n_steps, device, verbose=0)\n",
    "            print(f'Batch {total//(128*100)}, acc: {cur_acc}')\n",
    "    print('Epoch:%d, Accuracy of the snn network on the %d train images: %f, loss:%f, mse_loss:%f, ce_loss:%f'%(epoch,total,100 * correct / total,epoch_loss/total, epoch_loss_mse/total, epoch_loss_ce/total))\n",
    "    scheduler.step()\n",
    "    validate_snn(model_mid, test_loader, n_steps, device)"
   ]
  },
  {
   "cell_type": "markdown",
   "metadata": {},
   "source": [
    "#### Compare finetuned models"
   ]
  },
  {
   "cell_type": "code",
   "execution_count": 28,
   "metadata": {},
   "outputs": [],
   "source": [
    "data, target = next(iter(train_loader))\n",
    "data = add_dimension(data, n_steps)\n",
    "data, target = data.to(device), target.to(device)"
   ]
  },
  {
   "cell_type": "code",
   "execution_count": 12,
   "metadata": {},
   "outputs": [],
   "source": [
    "model_merge_1 = deepcopy(model_s[0]).to(device)\n",
    "model_merge_2 = deepcopy(model_s[1]).to(device)"
   ]
  },
  {
   "cell_type": "code",
   "execution_count": 60,
   "metadata": {},
   "outputs": [],
   "source": [
    "L = 1\n",
    "outputs_1 = model_merge_1(data, L=L, t=n_steps)\n",
    "outputs_1 = torch.mean(outputs_1, 1)\n",
    "outputs_2 = model_merge_2(data, L=L, t=n_steps)\n",
    "outputs_2 = torch.mean(outputs_2, 1)"
   ]
  },
  {
   "cell_type": "code",
   "execution_count": 73,
   "metadata": {},
   "outputs": [
    {
     "name": "stdout",
     "output_type": "stream",
     "text": [
      "L=0, max_diff=5.023438453674316\n",
      "L=1, max_diff=0.20188574492931366\n",
      "L=2, max_diff=0.19557975232601166\n",
      "L=3, max_diff=0.13197259604930878\n",
      "L=4, max_diff=0.19841402769088745\n",
      "L=5, max_diff=0.12946902215480804\n",
      "L=6, max_diff=0.12687665224075317\n",
      "L=7, max_diff=0.14906498789787292\n",
      "L=8, max_diff=0.07979712635278702\n",
      "L=9, max_diff=0.058995846658945084\n",
      "L=10, max_diff=0.07041503489017487\n",
      "L=11, max_diff=0.03931347280740738\n",
      "L=12, max_diff=0.04810955747961998\n",
      "L=13, max_diff=0.2804771661758423\n",
      "L=14, max_diff=0.045754674822092056\n",
      "L=15, max_diff=0.0835646241903305\n"
     ]
    }
   ],
   "source": [
    "max_diff_s = []\n",
    "for L in range(0, 16):\n",
    "    outputs_1 = model_merge_1(data, L=L, t=n_steps)\n",
    "    outputs_1 = torch.mean(outputs_1, 1)\n",
    "    outputs_2 = model_merge_2(data, L=L, t=n_steps)\n",
    "    outputs_2 = torch.mean(outputs_2, 1)\n",
    "    diff = torch.abs(outputs_1 - outputs_2)\n",
    "    max_diff = torch.max(diff)\n",
    "    max_diff_s.append(max_diff.item())\n",
    "    print(f'L={L}, max_diff={max_diff}')"
   ]
  },
  {
   "cell_type": "code",
   "execution_count": 77,
   "metadata": {},
   "outputs": [
    {
     "data": {
      "text/plain": [
       "[<matplotlib.lines.Line2D at 0x70aaf7f23310>]"
      ]
     },
     "execution_count": 77,
     "metadata": {},
     "output_type": "execute_result"
    },
    {
     "data": {
      "image/png": "[encoded data removed]",
      "text/plain": [
       "<Figure size 640x480 with 1 Axes>"
      ]
     },
     "metadata": {},
     "output_type": "display_data"
    }
   ],
   "source": [
    "plt.plot(max_diff_s[1:])"
   ]
  },
  {
   "cell_type": "code",
   "execution_count": 102,
   "metadata": {},
   "outputs": [],
   "source": [
    "param_max_diff_s = []\n",
    "for param_1, param_2 in zip(model_merge_1.parameters(), model_merge_2.parameters()):\n",
    "    diff = torch.abs(param_1 - param_2)\n",
    "    max_diff = torch.max(diff)\n",
    "    param_max_diff_s.append(max_diff.item())\n",
    "    # print(f'max_diff={max_diff}')"
   ]
  },
  {
   "cell_type": "code",
   "execution_count": 103,
   "metadata": {},
   "outputs": [
    {
     "data": {
      "text/plain": [
       "[<matplotlib.lines.Line2D at 0x70aaef1a26d0>]"
      ]
     },
     "execution_count": 103,
     "metadata": {},
     "output_type": "execute_result"
    },
    {
     "data": {
      "image/png": "[encoded data removed]",
      "text/plain": [
       "<Figure size 640x480 with 1 Axes>"
      ]
     },
     "metadata": {},
     "output_type": "display_data"
    }
   ],
   "source": [
    "plt.plot(param_max_diff_s)"
   ]
  },
  {
   "cell_type": "markdown",
   "metadata": {},
   "source": [
    "#### PFM"
   ]
  },
  {
   "cell_type": "code",
   "execution_count": 16,
   "metadata": {},
   "outputs": [
    {
     "name": "stdout",
     "output_type": "stream",
     "text": [
      "[92.44 92.42 92.39 92.09 92.4  92.09 92.18 92.13 92.38 92.3  92.43 92.61\n",
      " 92.42 92.17 92.46 92.42 92.27 92.47 92.47 92.33 92.37 92.2  92.25 92.25\n",
      " 92.38 92.25 92.12 92.4  92.51 92.23]\n",
      "[11 28 18 17 14  0 10  1 15 12 27  4  2 24  8 20 19  9 16 23 22 25 29 21\n",
      "  6 13  7 26  5  3]\n",
      "[92.61 92.51 92.47 92.47 92.46 92.44 92.43 92.42 92.42 92.42 92.4  92.4\n",
      " 92.39 92.38 92.38 92.37 92.33 92.3  92.27 92.25 92.25 92.25 92.23 92.2\n",
      " 92.18 92.17 92.13 92.12 92.09 92.09]\n"
     ]
    }
   ],
   "source": [
    "print(acc_s)\n",
    "sorted_indices = np.argsort(acc_s)[::-1]\n",
    "print(sorted_indices)\n",
    "print(acc_s[sorted_indices])"
   ]
  },
  {
   "cell_type": "code",
   "execution_count": 17,
   "metadata": {},
   "outputs": [
    {
     "name": "stdout",
     "output_type": "stream",
     "text": [
      "Accuracy of the network on the test images: 93.720000\n"
     ]
    },
    {
     "data": {
      "text/plain": [
       "93.72"
      ]
     },
     "execution_count": 17,
     "metadata": {},
     "output_type": "execute_result"
    }
   ],
   "source": [
    "validate_snn_ensemble([model_s[11], model_s[28]], test_loader, n_steps, device)"
   ]
  },
  {
   "cell_type": "markdown",
   "metadata": {},
   "source": [
    "##### play with the PFM"
   ]
  },
  {
   "cell_type": "code",
   "execution_count": 27,
   "metadata": {},
   "outputs": [],
   "source": [
    "def PFM_outputs(model_merge_s, model_merged, data, L, n_steps):\n",
    "    outputs_s = [model(data, L=L, t=n_steps) for model in model_merge_s]\n",
    "    outputs_avg = torch.zeros_like(outputs_s[0])\n",
    "    for outputs in outputs_s:\n",
    "        outputs_avg += outputs\n",
    "    outputs_avg /= len(outputs_s)\n",
    "    outputs = model_merged(outputs_avg, L=0, t=n_steps, prev_L=L).mean(1)\n",
    "    return outputs"
   ]
  },
  {
   "cell_type": "code",
   "execution_count": 27,
   "metadata": {},
   "outputs": [
    {
     "name": "stdout",
     "output_type": "stream",
     "text": [
      "Accuracy of the network on the test images: 92.670000 , L=2\n"
     ]
    }
   ],
   "source": [
    "model_merge_s = [deepcopy(model_s[i]) for i in sorted_indices[:2]]\n",
    "for model in model_merge_s:\n",
    "    model.to(device)\n",
    "    model.eval()\n",
    "num_models = len(model_merge_s)\n",
    "model_mid = deepcopy(model_s[0])\n",
    "sd_mid = interpolate_multi_state_dicts([model.state_dict() for model in model_merge_s], [1/num_models]*num_models, use_slerp=False)\n",
    "model_mid.load_state_dict(sd_mid)\n",
    "model_mid.to(device).eval()\n",
    "\n",
    "L = 2\n",
    "total = 0\n",
    "correct = 0\n",
    "for data, target in test_loader:\n",
    "    data = add_dimension(data, n_steps)\n",
    "    data, target = data.to(device), target.to(device)\n",
    "    outputs = PFM_outputs(model_merge_s, model_mid, data, L, n_steps)\n",
    "    total += target.size(0)\n",
    "    correct += (outputs.argmax(1) == target).sum().item()\n",
    "print('Accuracy of the network on the test images: %f' % (100 * correct / total), f\", L={L}\")\n",
    "acc = 100 * correct / total"
   ]
  },
  {
   "cell_type": "markdown",
   "metadata": {},
   "source": [
    "reset"
   ]
  },
  {
   "cell_type": "code",
   "execution_count": 38,
   "metadata": {},
   "outputs": [
    {
     "name": "stdout",
     "output_type": "stream",
     "text": [
      "Accuracy of the network on the test images: 92.970000 , L=2\n"
     ]
    }
   ],
   "source": [
    "model_mid = deepcopy(model_s[0])\n",
    "model_mid.load_state_dict(sd_mid)\n",
    "model_mid.to(device).eval()\n",
    "\n",
    "L = 2\n",
    "\n",
    "# reset bn stats\n",
    "for m in model_mid.modules():\n",
    "    if isinstance(m, nn.BatchNorm2d):\n",
    "        m.reset_running_stats()\n",
    "        m.training = True\n",
    "        m.momentum = None\n",
    "\n",
    "for model in model_merge_s:\n",
    "    model.to(device)\n",
    "    model.eval()\n",
    "model_mid.train()\n",
    "\n",
    "for data, _ in train_loader:\n",
    "    data = add_dimension(data, n_steps)\n",
    "    data = data.to(device)\n",
    "    PFM_outputs(model_merge_s, model_mid, data, L, n_steps)\n",
    "\n",
    "# test\n",
    "model_mid.eval()\n",
    "total = 0\n",
    "correct = 0\n",
    "for data, target in test_loader:\n",
    "    data = add_dimension(data, n_steps)\n",
    "    data, target = data.to(device), target.to(device)\n",
    "    outputs = PFM_outputs(model_merge_s, model_mid, data, L, n_steps)\n",
    "    total += target.size(0)\n",
    "    correct += (outputs.argmax(1) == target).sum().item()\n",
    "print('Accuracy of the network on the test images: %f' % (100 * correct / total), f\", L={L}\")\n",
    "acc = 100 * correct / total"
   ]
  },
  {
   "cell_type": "markdown",
   "metadata": {},
   "source": [
    "##### Test all Ls"
   ]
  },
  {
   "cell_type": "code",
   "execution_count": null,
   "metadata": {},
   "outputs": [
    {
     "name": "stdout",
     "output_type": "stream",
     "text": [
      "Accuracy of the network on the test images: 92.090000\n",
      "Accuracy of the network on the test images: 92.700000 , L=1\n",
      "Accuracy of the network on the test images: 92.670000 , L=2\n",
      "Accuracy of the network on the test images: 92.780000 , L=3\n"
     ]
    }
   ],
   "source": [
    "model_merge_s = [deepcopy(model_s[i]) for i in sorted_indices[:2]]\n",
    "for model in model_merge_s:\n",
    "    model.to(device)\n",
    "    model.eval()\n",
    "num_models = len(model_merge_s)\n",
    "model_mid = deepcopy(model_s[0])\n",
    "sd_mid = interpolate_multi_state_dicts([model.state_dict() for model in model_merge_s], [1/num_models]*num_models, use_slerp=False)\n",
    "model_mid.load_state_dict(sd_mid)\n",
    "model_mid.to(device).eval()\n",
    "\n",
    "validate_snn(model_mid, test_loader, n_steps, device) # direct merge\n",
    "\n",
    "test_acc_s = []\n",
    "for L in range(1, 17):\n",
    "    total = 0\n",
    "    correct = 0\n",
    "    for data, target in test_loader:\n",
    "        data = add_dimension(data, n_steps)\n",
    "        data, target = data.to(device), target.to(device)\n",
    "        outputs = PFM_outputs(model_merge_s, model_mid, data, L, n_steps)\n",
    "        total += target.size(0)\n",
    "        correct += (outputs.argmax(1) == target).sum().item()\n",
    "\n",
    "    print('Accuracy of the network on the test images: %f' % (100 * correct / total), f\", L={L}\")\n",
    "    acc = 100 * correct / total\n",
    "    test_acc_s.append(acc)"
   ]
  },
  {
   "cell_type": "markdown",
   "metadata": {},
   "source": [
    "reset\n",
    "\n",
    "Finding: \n",
    "1. when L is large, reset almost brings no difference if not worse\n",
    "2. when L is small, performance of reset is inconsistent. Sometimes it is better, sometimes it is worse. When merging two models, it can bring some improvement. When merging three models, the improvement is less pronounced.\n",
    "\n",
    "So perhaps it's not recommended to reset"
   ]
  },
  {
   "cell_type": "code",
   "execution_count": 40,
   "metadata": {},
   "outputs": [
    {
     "name": "stdout",
     "output_type": "stream",
     "text": [
      "Accuracy of the network on the test images: 92.450000 , L=1\n",
      "Accuracy of the network on the test images: 92.690000 , L=2\n",
      "Accuracy of the network on the test images: 93.060000 , L=3\n",
      "Accuracy of the network on the test images: 93.230000 , L=4\n",
      "Accuracy of the network on the test images: 93.480000 , L=5\n",
      "Accuracy of the network on the test images: 93.430000 , L=6\n",
      "Accuracy of the network on the test images: 93.890000 , L=7\n",
      "Accuracy of the network on the test images: 93.850000 , L=8\n",
      "Accuracy of the network on the test images: 94.030000 , L=9\n"
     ]
    },
    {
     "ename": "KeyboardInterrupt",
     "evalue": "",
     "output_type": "error",
     "traceback": [
      "\u001b[0;31m---------------------------------------------------------------------------\u001b[0m",
      "\u001b[0;31mKeyboardInterrupt\u001b[0m                         Traceback (most recent call last)",
      "Cell \u001b[0;32mIn[40], line 23\u001b[0m\n\u001b[1;32m     21\u001b[0m         m\u001b[38;5;241m.\u001b[39mmomentum \u001b[38;5;241m=\u001b[39m \u001b[38;5;28;01mNone\u001b[39;00m\n\u001b[1;32m     22\u001b[0m model_mid\u001b[38;5;241m.\u001b[39mtrain()\n\u001b[0;32m---> 23\u001b[0m \u001b[38;5;28;01mfor\u001b[39;00m data, _ \u001b[38;5;129;01min\u001b[39;00m train_loader:\n\u001b[1;32m     24\u001b[0m     data \u001b[38;5;241m=\u001b[39m add_dimension(data, n_steps)\n\u001b[1;32m     25\u001b[0m     data \u001b[38;5;241m=\u001b[39m data\u001b[38;5;241m.\u001b[39mto(device)\n",
      "File \u001b[0;32m~/anaconda3/envs/default/lib/python3.11/site-packages/torch/utils/data/dataloader.py:630\u001b[0m, in \u001b[0;36m_BaseDataLoaderIter.__next__\u001b[0;34m(self)\u001b[0m\n\u001b[1;32m    627\u001b[0m \u001b[38;5;28;01mif\u001b[39;00m \u001b[38;5;28mself\u001b[39m\u001b[38;5;241m.\u001b[39m_sampler_iter \u001b[38;5;129;01mis\u001b[39;00m \u001b[38;5;28;01mNone\u001b[39;00m:\n\u001b[1;32m    628\u001b[0m     \u001b[38;5;66;03m# TODO(https://github.com/pytorch/pytorch/issues/76750)\u001b[39;00m\n\u001b[1;32m    629\u001b[0m     \u001b[38;5;28mself\u001b[39m\u001b[38;5;241m.\u001b[39m_reset()  \u001b[38;5;66;03m# type: ignore[call-arg]\u001b[39;00m\n\u001b[0;32m--> 630\u001b[0m data \u001b[38;5;241m=\u001b[39m \u001b[38;5;28mself\u001b[39m\u001b[38;5;241m.\u001b[39m_next_data()\n\u001b[1;32m    631\u001b[0m \u001b[38;5;28mself\u001b[39m\u001b[38;5;241m.\u001b[39m_num_yielded \u001b[38;5;241m+\u001b[39m\u001b[38;5;241m=\u001b[39m \u001b[38;5;241m1\u001b[39m\n\u001b[1;32m    632\u001b[0m \u001b[38;5;28;01mif\u001b[39;00m \u001b[38;5;28mself\u001b[39m\u001b[38;5;241m.\u001b[39m_dataset_kind \u001b[38;5;241m==\u001b[39m _DatasetKind\u001b[38;5;241m.\u001b[39mIterable \u001b[38;5;129;01mand\u001b[39;00m \\\n\u001b[1;32m    633\u001b[0m         \u001b[38;5;28mself\u001b[39m\u001b[38;5;241m.\u001b[39m_IterableDataset_len_called \u001b[38;5;129;01mis\u001b[39;00m \u001b[38;5;129;01mnot\u001b[39;00m \u001b[38;5;28;01mNone\u001b[39;00m \u001b[38;5;129;01mand\u001b[39;00m \\\n\u001b[1;32m    634\u001b[0m         \u001b[38;5;28mself\u001b[39m\u001b[38;5;241m.\u001b[39m_num_yielded \u001b[38;5;241m>\u001b[39m \u001b[38;5;28mself\u001b[39m\u001b[38;5;241m.\u001b[39m_IterableDataset_len_called:\n",
      "File \u001b[0;32m~/anaconda3/envs/default/lib/python3.11/site-packages/torch/utils/data/dataloader.py:673\u001b[0m, in \u001b[0;36m_SingleProcessDataLoaderIter._next_data\u001b[0;34m(self)\u001b[0m\n\u001b[1;32m    671\u001b[0m \u001b[38;5;28;01mdef\u001b[39;00m \u001b[38;5;21m_next_data\u001b[39m(\u001b[38;5;28mself\u001b[39m):\n\u001b[1;32m    672\u001b[0m     index \u001b[38;5;241m=\u001b[39m \u001b[38;5;28mself\u001b[39m\u001b[38;5;241m.\u001b[39m_next_index()  \u001b[38;5;66;03m# may raise StopIteration\u001b[39;00m\n\u001b[0;32m--> 673\u001b[0m     data \u001b[38;5;241m=\u001b[39m \u001b[38;5;28mself\u001b[39m\u001b[38;5;241m.\u001b[39m_dataset_fetcher\u001b[38;5;241m.\u001b[39mfetch(index)  \u001b[38;5;66;03m# may raise StopIteration\u001b[39;00m\n\u001b[1;32m    674\u001b[0m     \u001b[38;5;28;01mif\u001b[39;00m \u001b[38;5;28mself\u001b[39m\u001b[38;5;241m.\u001b[39m_pin_memory:\n\u001b[1;32m    675\u001b[0m         data \u001b[38;5;241m=\u001b[39m _utils\u001b[38;5;241m.\u001b[39mpin_memory\u001b[38;5;241m.\u001b[39mpin_memory(data, \u001b[38;5;28mself\u001b[39m\u001b[38;5;241m.\u001b[39m_pin_memory_device)\n",
      "File \u001b[0;32m~/anaconda3/envs/default/lib/python3.11/site-packages/torch/utils/data/_utils/fetch.py:52\u001b[0m, in \u001b[0;36m_MapDatasetFetcher.fetch\u001b[0;34m(self, possibly_batched_index)\u001b[0m\n\u001b[1;32m     50\u001b[0m         data \u001b[38;5;241m=\u001b[39m \u001b[38;5;28mself\u001b[39m\u001b[38;5;241m.\u001b[39mdataset\u001b[38;5;241m.\u001b[39m__getitems__(possibly_batched_index)\n\u001b[1;32m     51\u001b[0m     \u001b[38;5;28;01melse\u001b[39;00m:\n\u001b[0;32m---> 52\u001b[0m         data \u001b[38;5;241m=\u001b[39m [\u001b[38;5;28mself\u001b[39m\u001b[38;5;241m.\u001b[39mdataset[idx] \u001b[38;5;28;01mfor\u001b[39;00m idx \u001b[38;5;129;01min\u001b[39;00m possibly_batched_index]\n\u001b[1;32m     53\u001b[0m \u001b[38;5;28;01melse\u001b[39;00m:\n\u001b[1;32m     54\u001b[0m     data \u001b[38;5;241m=\u001b[39m \u001b[38;5;28mself\u001b[39m\u001b[38;5;241m.\u001b[39mdataset[possibly_batched_index]\n",
      "File \u001b[0;32m~/anaconda3/envs/default/lib/python3.11/site-packages/torch/utils/data/_utils/fetch.py:52\u001b[0m, in \u001b[0;36m<listcomp>\u001b[0;34m(.0)\u001b[0m\n\u001b[1;32m     50\u001b[0m         data \u001b[38;5;241m=\u001b[39m \u001b[38;5;28mself\u001b[39m\u001b[38;5;241m.\u001b[39mdataset\u001b[38;5;241m.\u001b[39m__getitems__(possibly_batched_index)\n\u001b[1;32m     51\u001b[0m     \u001b[38;5;28;01melse\u001b[39;00m:\n\u001b[0;32m---> 52\u001b[0m         data \u001b[38;5;241m=\u001b[39m [\u001b[38;5;28mself\u001b[39m\u001b[38;5;241m.\u001b[39mdataset[idx] \u001b[38;5;28;01mfor\u001b[39;00m idx \u001b[38;5;129;01min\u001b[39;00m possibly_batched_index]\n\u001b[1;32m     53\u001b[0m \u001b[38;5;28;01melse\u001b[39;00m:\n\u001b[1;32m     54\u001b[0m     data \u001b[38;5;241m=\u001b[39m \u001b[38;5;28mself\u001b[39m\u001b[38;5;241m.\u001b[39mdataset[possibly_batched_index]\n",
      "File \u001b[0;32m~/anaconda3/envs/default/lib/python3.11/site-packages/torchvision/datasets/cifar.py:119\u001b[0m, in \u001b[0;36mCIFAR10.__getitem__\u001b[0;34m(self, index)\u001b[0m\n\u001b[1;32m    116\u001b[0m img \u001b[38;5;241m=\u001b[39m Image\u001b[38;5;241m.\u001b[39mfromarray(img)\n\u001b[1;32m    118\u001b[0m \u001b[38;5;28;01mif\u001b[39;00m \u001b[38;5;28mself\u001b[39m\u001b[38;5;241m.\u001b[39mtransform \u001b[38;5;129;01mis\u001b[39;00m \u001b[38;5;129;01mnot\u001b[39;00m \u001b[38;5;28;01mNone\u001b[39;00m:\n\u001b[0;32m--> 119\u001b[0m     img \u001b[38;5;241m=\u001b[39m \u001b[38;5;28mself\u001b[39m\u001b[38;5;241m.\u001b[39mtransform(img)\n\u001b[1;32m    121\u001b[0m \u001b[38;5;28;01mif\u001b[39;00m \u001b[38;5;28mself\u001b[39m\u001b[38;5;241m.\u001b[39mtarget_transform \u001b[38;5;129;01mis\u001b[39;00m \u001b[38;5;129;01mnot\u001b[39;00m \u001b[38;5;28;01mNone\u001b[39;00m:\n\u001b[1;32m    122\u001b[0m     target \u001b[38;5;241m=\u001b[39m \u001b[38;5;28mself\u001b[39m\u001b[38;5;241m.\u001b[39mtarget_transform(target)\n",
      "File \u001b[0;32m~/anaconda3/envs/default/lib/python3.11/site-packages/torchvision/transforms/transforms.py:95\u001b[0m, in \u001b[0;36mCompose.__call__\u001b[0;34m(self, img)\u001b[0m\n\u001b[1;32m     93\u001b[0m \u001b[38;5;28;01mdef\u001b[39;00m \u001b[38;5;21m__call__\u001b[39m(\u001b[38;5;28mself\u001b[39m, img):\n\u001b[1;32m     94\u001b[0m     \u001b[38;5;28;01mfor\u001b[39;00m t \u001b[38;5;129;01min\u001b[39;00m \u001b[38;5;28mself\u001b[39m\u001b[38;5;241m.\u001b[39mtransforms:\n\u001b[0;32m---> 95\u001b[0m         img \u001b[38;5;241m=\u001b[39m t(img)\n\u001b[1;32m     96\u001b[0m     \u001b[38;5;28;01mreturn\u001b[39;00m img\n",
      "File \u001b[0;32m~/anaconda3/envs/default/lib/python3.11/site-packages/torch/nn/modules/module.py:1553\u001b[0m, in \u001b[0;36mModule._wrapped_call_impl\u001b[0;34m(self, *args, **kwargs)\u001b[0m\n\u001b[1;32m   1551\u001b[0m     \u001b[38;5;28;01mreturn\u001b[39;00m \u001b[38;5;28mself\u001b[39m\u001b[38;5;241m.\u001b[39m_compiled_call_impl(\u001b[38;5;241m*\u001b[39margs, \u001b[38;5;241m*\u001b[39m\u001b[38;5;241m*\u001b[39mkwargs)  \u001b[38;5;66;03m# type: ignore[misc]\u001b[39;00m\n\u001b[1;32m   1552\u001b[0m \u001b[38;5;28;01melse\u001b[39;00m:\n\u001b[0;32m-> 1553\u001b[0m     \u001b[38;5;28;01mreturn\u001b[39;00m \u001b[38;5;28mself\u001b[39m\u001b[38;5;241m.\u001b[39m_call_impl(\u001b[38;5;241m*\u001b[39margs, \u001b[38;5;241m*\u001b[39m\u001b[38;5;241m*\u001b[39mkwargs)\n",
      "File \u001b[0;32m~/anaconda3/envs/default/lib/python3.11/site-packages/torch/nn/modules/module.py:1562\u001b[0m, in \u001b[0;36mModule._call_impl\u001b[0;34m(self, *args, **kwargs)\u001b[0m\n\u001b[1;32m   1557\u001b[0m \u001b[38;5;66;03m# If we don't have any hooks, we want to skip the rest of the logic in\u001b[39;00m\n\u001b[1;32m   1558\u001b[0m \u001b[38;5;66;03m# this function, and just call forward.\u001b[39;00m\n\u001b[1;32m   1559\u001b[0m \u001b[38;5;28;01mif\u001b[39;00m \u001b[38;5;129;01mnot\u001b[39;00m (\u001b[38;5;28mself\u001b[39m\u001b[38;5;241m.\u001b[39m_backward_hooks \u001b[38;5;129;01mor\u001b[39;00m \u001b[38;5;28mself\u001b[39m\u001b[38;5;241m.\u001b[39m_backward_pre_hooks \u001b[38;5;129;01mor\u001b[39;00m \u001b[38;5;28mself\u001b[39m\u001b[38;5;241m.\u001b[39m_forward_hooks \u001b[38;5;129;01mor\u001b[39;00m \u001b[38;5;28mself\u001b[39m\u001b[38;5;241m.\u001b[39m_forward_pre_hooks\n\u001b[1;32m   1560\u001b[0m         \u001b[38;5;129;01mor\u001b[39;00m _global_backward_pre_hooks \u001b[38;5;129;01mor\u001b[39;00m _global_backward_hooks\n\u001b[1;32m   1561\u001b[0m         \u001b[38;5;129;01mor\u001b[39;00m _global_forward_hooks \u001b[38;5;129;01mor\u001b[39;00m _global_forward_pre_hooks):\n\u001b[0;32m-> 1562\u001b[0m     \u001b[38;5;28;01mreturn\u001b[39;00m forward_call(\u001b[38;5;241m*\u001b[39margs, \u001b[38;5;241m*\u001b[39m\u001b[38;5;241m*\u001b[39mkwargs)\n\u001b[1;32m   1564\u001b[0m \u001b[38;5;28;01mtry\u001b[39;00m:\n\u001b[1;32m   1565\u001b[0m     result \u001b[38;5;241m=\u001b[39m \u001b[38;5;28;01mNone\u001b[39;00m\n",
      "File \u001b[0;32m~/anaconda3/envs/default/lib/python3.11/site-packages/torchvision/transforms/transforms.py:669\u001b[0m, in \u001b[0;36mRandomCrop.forward\u001b[0;34m(self, img)\u001b[0m\n\u001b[1;32m    661\u001b[0m \u001b[38;5;250m\u001b[39m\u001b[38;5;124;03m\"\"\"\u001b[39;00m\n\u001b[1;32m    662\u001b[0m \u001b[38;5;124;03mArgs:\u001b[39;00m\n\u001b[1;32m    663\u001b[0m \u001b[38;5;124;03m    img (PIL Image or Tensor): Image to be cropped.\u001b[39;00m\n\u001b[0;32m   (...)\u001b[0m\n\u001b[1;32m    666\u001b[0m \u001b[38;5;124;03m    PIL Image or Tensor: Cropped image.\u001b[39;00m\n\u001b[1;32m    667\u001b[0m \u001b[38;5;124;03m\"\"\"\u001b[39;00m\n\u001b[1;32m    668\u001b[0m \u001b[38;5;28;01mif\u001b[39;00m \u001b[38;5;28mself\u001b[39m\u001b[38;5;241m.\u001b[39mpadding \u001b[38;5;129;01mis\u001b[39;00m \u001b[38;5;129;01mnot\u001b[39;00m \u001b[38;5;28;01mNone\u001b[39;00m:\n\u001b[0;32m--> 669\u001b[0m     img \u001b[38;5;241m=\u001b[39m F\u001b[38;5;241m.\u001b[39mpad(img, \u001b[38;5;28mself\u001b[39m\u001b[38;5;241m.\u001b[39mpadding, \u001b[38;5;28mself\u001b[39m\u001b[38;5;241m.\u001b[39mfill, \u001b[38;5;28mself\u001b[39m\u001b[38;5;241m.\u001b[39mpadding_mode)\n\u001b[1;32m    671\u001b[0m _, height, width \u001b[38;5;241m=\u001b[39m F\u001b[38;5;241m.\u001b[39mget_dimensions(img)\n\u001b[1;32m    672\u001b[0m \u001b[38;5;66;03m# pad the width if needed\u001b[39;00m\n",
      "File \u001b[0;32m~/anaconda3/envs/default/lib/python3.11/site-packages/torchvision/transforms/functional.py:526\u001b[0m, in \u001b[0;36mpad\u001b[0;34m(img, padding, fill, padding_mode)\u001b[0m\n\u001b[1;32m    524\u001b[0m     _log_api_usage_once(pad)\n\u001b[1;32m    525\u001b[0m \u001b[38;5;28;01mif\u001b[39;00m \u001b[38;5;129;01mnot\u001b[39;00m \u001b[38;5;28misinstance\u001b[39m(img, torch\u001b[38;5;241m.\u001b[39mTensor):\n\u001b[0;32m--> 526\u001b[0m     \u001b[38;5;28;01mreturn\u001b[39;00m F_pil\u001b[38;5;241m.\u001b[39mpad(img, padding\u001b[38;5;241m=\u001b[39mpadding, fill\u001b[38;5;241m=\u001b[39mfill, padding_mode\u001b[38;5;241m=\u001b[39mpadding_mode)\n\u001b[1;32m    528\u001b[0m \u001b[38;5;28;01mreturn\u001b[39;00m F_t\u001b[38;5;241m.\u001b[39mpad(img, padding\u001b[38;5;241m=\u001b[39mpadding, fill\u001b[38;5;241m=\u001b[39mfill, padding_mode\u001b[38;5;241m=\u001b[39mpadding_mode)\n",
      "File \u001b[0;32m~/anaconda3/envs/default/lib/python3.11/site-packages/torchvision/transforms/_functional_pil.py:143\u001b[0m, in \u001b[0;36mpad\u001b[0;34m(img, padding, fill, padding_mode)\u001b[0m\n\u001b[1;32m    139\u001b[0m     img \u001b[38;5;241m=\u001b[39m img\u001b[38;5;241m.\u001b[39mconvert(input_mode)\n\u001b[1;32m    140\u001b[0m     \u001b[38;5;28;01mreturn\u001b[39;00m img\n\u001b[0;32m--> 143\u001b[0m \u001b[38;5;129m@torch\u001b[39m\u001b[38;5;241m.\u001b[39mjit\u001b[38;5;241m.\u001b[39munused\n\u001b[1;32m    144\u001b[0m \u001b[38;5;28;01mdef\u001b[39;00m \u001b[38;5;21mpad\u001b[39m(\n\u001b[1;32m    145\u001b[0m     img: Image\u001b[38;5;241m.\u001b[39mImage,\n\u001b[1;32m    146\u001b[0m     padding: Union[\u001b[38;5;28mint\u001b[39m, List[\u001b[38;5;28mint\u001b[39m], Tuple[\u001b[38;5;28mint\u001b[39m, \u001b[38;5;241m.\u001b[39m\u001b[38;5;241m.\u001b[39m\u001b[38;5;241m.\u001b[39m]],\n\u001b[1;32m    147\u001b[0m     fill: Optional[Union[\u001b[38;5;28mfloat\u001b[39m, List[\u001b[38;5;28mfloat\u001b[39m], Tuple[\u001b[38;5;28mfloat\u001b[39m, \u001b[38;5;241m.\u001b[39m\u001b[38;5;241m.\u001b[39m\u001b[38;5;241m.\u001b[39m]]] \u001b[38;5;241m=\u001b[39m \u001b[38;5;241m0\u001b[39m,\n\u001b[1;32m    148\u001b[0m     padding_mode: Literal[\u001b[38;5;124m\"\u001b[39m\u001b[38;5;124mconstant\u001b[39m\u001b[38;5;124m\"\u001b[39m, \u001b[38;5;124m\"\u001b[39m\u001b[38;5;124medge\u001b[39m\u001b[38;5;124m\"\u001b[39m, \u001b[38;5;124m\"\u001b[39m\u001b[38;5;124mreflect\u001b[39m\u001b[38;5;124m\"\u001b[39m, \u001b[38;5;124m\"\u001b[39m\u001b[38;5;124msymmetric\u001b[39m\u001b[38;5;124m\"\u001b[39m] \u001b[38;5;241m=\u001b[39m \u001b[38;5;124m\"\u001b[39m\u001b[38;5;124mconstant\u001b[39m\u001b[38;5;124m\"\u001b[39m,\n\u001b[1;32m    149\u001b[0m ) \u001b[38;5;241m-\u001b[39m\u001b[38;5;241m>\u001b[39m Image\u001b[38;5;241m.\u001b[39mImage:\n\u001b[1;32m    151\u001b[0m     \u001b[38;5;28;01mif\u001b[39;00m \u001b[38;5;129;01mnot\u001b[39;00m _is_pil_image(img):\n\u001b[1;32m    152\u001b[0m         \u001b[38;5;28;01mraise\u001b[39;00m \u001b[38;5;167;01mTypeError\u001b[39;00m(\u001b[38;5;124mf\u001b[39m\u001b[38;5;124m\"\u001b[39m\u001b[38;5;124mimg should be PIL Image. Got \u001b[39m\u001b[38;5;132;01m{\u001b[39;00m\u001b[38;5;28mtype\u001b[39m(img)\u001b[38;5;132;01m}\u001b[39;00m\u001b[38;5;124m\"\u001b[39m)\n",
      "\u001b[0;31mKeyboardInterrupt\u001b[0m: "
     ]
    }
   ],
   "source": [
    "model_merge_s = [deepcopy(model_s[i]) for i in sorted_indices[:3]]\n",
    "for model in model_merge_s:\n",
    "    model.to(device)\n",
    "    model.eval()\n",
    "num_models = len(model_merge_s)\n",
    "sd_mid = interpolate_multi_state_dicts([model.state_dict() for model in model_merge_s], [1/num_models]*num_models, use_slerp=False)\n",
    "model_mid = deepcopy(model_s[0])\n",
    "model_mid.load_state_dict(sd_mid)\n",
    "model_mid.to(device).eval()\n",
    "\n",
    "test_acc_s = []\n",
    "for L in range(1, 17):\n",
    "    model_mid = deepcopy(model_s[0])\n",
    "    model_mid.load_state_dict(sd_mid)\n",
    "    model_mid.to(device).eval()\n",
    "    # reset bn stats\n",
    "    for m in model_mid.modules():\n",
    "        if isinstance(m, nn.BatchNorm2d):\n",
    "            m.reset_running_stats()\n",
    "            m.training = True\n",
    "            m.momentum = None\n",
    "    model_mid.train()\n",
    "    for data, _ in train_loader:\n",
    "        data = add_dimension(data, n_steps)\n",
    "        data = data.to(device)\n",
    "        PFM_outputs(model_merge_s, model_mid, data, L, n_steps)\n",
    "    # test\n",
    "    model_mid.eval()\n",
    "    total = 0\n",
    "    correct = 0\n",
    "    for data, target in test_loader:\n",
    "        data = add_dimension(data, n_steps)\n",
    "        data, target = data.to(device), target.to(device)\n",
    "        outputs = PFM_outputs(model_merge_s, model_mid, data, L, n_steps)\n",
    "        total += target.size(0)\n",
    "        correct += (outputs.argmax(1) == target).sum().item()\n",
    "\n",
    "    print('Accuracy of the network on the test images: %f' % (100 * correct / total), f\", L={L}\")\n",
    "    acc = 100 * correct / total\n",
    "    test_acc_s.append(acc)"
   ]
  },
  {
   "cell_type": "code",
   "execution_count": 20,
   "metadata": {},
   "outputs": [
    {
     "data": {
      "text/plain": [
       "[<matplotlib.lines.Line2D at 0x762e58d7cb50>]"
      ]
     },
     "execution_count": 20,
     "metadata": {},
     "output_type": "execute_result"
    },
    {
     "data": {
      "image/png": "[encoded data removed]",
      "text/plain": [
       "<Figure size 640x480 with 1 Axes>"
      ]
     },
     "metadata": {},
     "output_type": "display_data"
    }
   ],
   "source": [
    "plt.plot(range(1, 17), test_acc_s)"
   ]
  },
  {
   "cell_type": "markdown",
   "metadata": {},
   "source": [
    "Is ensemble always better?"
   ]
  },
  {
   "cell_type": "code",
   "execution_count": 36,
   "metadata": {},
   "outputs": [
    {
     "name": "stdout",
     "output_type": "stream",
     "text": [
      "Accuracy of the network on the test images: 93.720000\n",
      "2 models, acc: 93.72\n",
      "Accuracy of the network on the test images: 94.040000\n",
      "3 models, acc: 94.04\n",
      "Accuracy of the network on the test images: 94.200000\n",
      "4 models, acc: 94.2\n",
      "Accuracy of the network on the test images: 94.200000\n",
      "5 models, acc: 94.2\n",
      "Accuracy of the network on the test images: 94.210000\n",
      "6 models, acc: 94.21\n",
      "Accuracy of the network on the test images: 94.260000\n",
      "7 models, acc: 94.26\n",
      "Accuracy of the network on the test images: 94.230000\n",
      "8 models, acc: 94.23\n",
      "Accuracy of the network on the test images: 94.170000\n",
      "9 models, acc: 94.17\n",
      "Accuracy of the network on the test images: 94.260000\n",
      "10 models, acc: 94.26\n",
      "Accuracy of the network on the test images: 94.230000\n",
      "11 models, acc: 94.23\n",
      "Accuracy of the network on the test images: 94.310000\n",
      "12 models, acc: 94.31\n",
      "Accuracy of the network on the test images: 94.340000\n",
      "13 models, acc: 94.34\n",
      "Accuracy of the network on the test images: 94.410000\n",
      "14 models, acc: 94.41\n",
      "Accuracy of the network on the test images: 94.440000\n",
      "15 models, acc: 94.44\n",
      "Accuracy of the network on the test images: 94.460000\n",
      "16 models, acc: 94.46\n",
      "Accuracy of the network on the test images: 94.460000\n",
      "17 models, acc: 94.46\n",
      "Accuracy of the network on the test images: 94.470000\n",
      "18 models, acc: 94.47\n",
      "Accuracy of the network on the test images: 94.450000\n",
      "19 models, acc: 94.45\n",
      "Accuracy of the network on the test images: 94.490000\n",
      "20 models, acc: 94.49\n",
      "Accuracy of the network on the test images: 94.450000\n",
      "21 models, acc: 94.45\n",
      "Accuracy of the network on the test images: 94.450000\n",
      "22 models, acc: 94.45\n",
      "Accuracy of the network on the test images: 94.470000\n",
      "23 models, acc: 94.47\n",
      "Accuracy of the network on the test images: 94.440000\n",
      "24 models, acc: 94.44\n"
     ]
    }
   ],
   "source": [
    "for i in range(2, 25):\n",
    "    acc = validate_snn_ensemble([model_s[j] for j in sorted_indices[:i]], test_loader, n_steps, device)\n",
    "    print(f'{i} models, acc: {acc}')"
   ]
  },
  {
   "cell_type": "markdown",
   "metadata": {},
   "source": [
    "test spawning setting (epoch 3)\n",
    "\n",
    "finging: using spawning in this setting will lead to decrease in ensemble performance, though merging seems to slightly improves (?). Also, PFM becomes less effective.\n",
    "\n",
    "So perhaps it's not recommended to use spawning in this setting"
   ]
  },
  {
   "cell_type": "code",
   "execution_count": 17,
   "metadata": {},
   "outputs": [
    {
     "data": {
      "text/plain": [
       "<All keys matched successfully>"
      ]
     },
     "execution_count": 17,
     "metadata": {},
     "output_type": "execute_result"
    }
   ],
   "source": [
    "model_merge_1 = deepcopy(model_s[0])\n",
    "model_merge_2 = deepcopy(model_s[1])\n",
    "model_merge_3 = deepcopy(model_s[2])\n",
    "\n",
    "sd_child_1 = torch.load('cifar10_vgg16_3_updated_snn1_1.pth', weights_only=True)\n",
    "sd_child_2 = torch.load('cifar10_vgg16_3_updated_snn1_1_v2.pth', weights_only=True)\n",
    "sd_child_3 = torch.load('cifar10_vgg16_3_updated_snn1_1_v3.pth', weights_only=True)\n",
    "\n",
    "model_merge_1.load_state_dict(sd_child_1)\n",
    "model_merge_2.load_state_dict(sd_child_2)\n",
    "model_merge_3.load_state_dict(sd_child_3)"
   ]
  },
  {
   "cell_type": "code",
   "execution_count": 18,
   "metadata": {},
   "outputs": [
    {
     "name": "stdout",
     "output_type": "stream",
     "text": [
      "Accuracy of the network on the test images: 92.260000\n",
      "Accuracy of the network on the test images: 92.370000\n",
      "Accuracy of the network on the test images: 92.370000\n"
     ]
    },
    {
     "data": {
      "text/plain": [
       "92.37"
      ]
     },
     "execution_count": 18,
     "metadata": {},
     "output_type": "execute_result"
    }
   ],
   "source": [
    "model_merge_1, model_merge_2, model_merge_3 = model_merge_1.to(device), model_merge_2.to(device), model_merge_3.to(device)\n",
    "\n",
    "validate_snn(model_merge_1, test_loader, n_steps, device)\n",
    "validate_snn(model_merge_2, test_loader, n_steps, device)\n",
    "validate_snn(model_merge_3, test_loader, n_steps, device)"
   ]
  },
  {
   "cell_type": "code",
   "execution_count": 21,
   "metadata": {},
   "outputs": [
    {
     "name": "stdout",
     "output_type": "stream",
     "text": [
      "Accuracy of the network on the test images: 93.690000\n"
     ]
    },
    {
     "data": {
      "text/plain": [
       "93.69"
      ]
     },
     "execution_count": 21,
     "metadata": {},
     "output_type": "execute_result"
    }
   ],
   "source": [
    "validate_snn_ensemble([model_merge_1, model_merge_2, model_merge_3], test_loader, n_steps, device)"
   ]
  },
  {
   "cell_type": "code",
   "execution_count": 35,
   "metadata": {},
   "outputs": [
    {
     "name": "stdout",
     "output_type": "stream",
     "text": [
      "Accuracy of the network on the test images: 92.300000\n"
     ]
    },
    {
     "data": {
      "text/plain": [
       "92.3"
      ]
     },
     "execution_count": 35,
     "metadata": {},
     "output_type": "execute_result"
    }
   ],
   "source": [
    "model_mid = deepcopy(model_s[0])\n",
    "sd_mid = interpolate_multi_state_dicts([sd_child_2, sd_child_3], [1/2]*2, use_slerp=False)\n",
    "model_mid.load_state_dict(sd_mid)\n",
    "model_mid = model_mid.to(device)\n",
    "# validate_snn(model_mid, test_loader, n_steps, device)\n",
    "reset_bn_stats(model_mid, device, train_loader, n_steps, layerwise=False, ann=False)\n",
    "validate_snn(model_mid, test_loader, n_steps, device)"
   ]
  },
  {
   "cell_type": "code",
   "execution_count": 30,
   "metadata": {},
   "outputs": [
    {
     "name": "stdout",
     "output_type": "stream",
     "text": [
      "Accuracy of the network on the test images: 92.350000\n",
      "Accuracy of the network on the test images: 92.500000 , L=1\n",
      "Accuracy of the network on the test images: 92.360000 , L=2\n",
      "Accuracy of the network on the test images: 92.610000 , L=3\n",
      "Accuracy of the network on the test images: 92.720000 , L=4\n",
      "Accuracy of the network on the test images: 92.890000 , L=5\n",
      "Accuracy of the network on the test images: 92.990000 , L=6\n",
      "Accuracy of the network on the test images: 93.220000 , L=7\n",
      "Accuracy of the network on the test images: 93.200000 , L=8\n",
      "Accuracy of the network on the test images: 93.250000 , L=9\n",
      "Accuracy of the network on the test images: 93.260000 , L=10\n",
      "Accuracy of the network on the test images: 93.280000 , L=11\n",
      "Accuracy of the network on the test images: 93.310000 , L=12\n",
      "Accuracy of the network on the test images: 93.210000 , L=13\n",
      "Accuracy of the network on the test images: 93.330000 , L=14\n",
      "Accuracy of the network on the test images: 93.300000 , L=15\n",
      "Accuracy of the network on the test images: 93.300000 , L=16\n"
     ]
    }
   ],
   "source": [
    "model_merge_s = [model_merge_2, model_merge_3]\n",
    "for model in model_merge_s:\n",
    "    model.to(device)\n",
    "    model.eval()\n",
    "num_models = len(model_merge_s)\n",
    "model_mid = deepcopy(model_s[0])\n",
    "sd_mid = interpolate_multi_state_dicts([model.state_dict() for model in model_merge_s], [1/num_models]*num_models, use_slerp=False)\n",
    "model_mid.load_state_dict(sd_mid)\n",
    "model_mid.to(device).eval()\n",
    "\n",
    "validate_snn(model_mid, test_loader, n_steps, device) # direct merge\n",
    "\n",
    "test_acc_s = []\n",
    "for L in range(1, 17):\n",
    "    total = 0\n",
    "    correct = 0\n",
    "    for data, target in test_loader:\n",
    "        data = add_dimension(data, n_steps)\n",
    "        data, target = data.to(device), target.to(device)\n",
    "        outputs = PFM_outputs(model_merge_s, model_mid, data, L, n_steps)\n",
    "        total += target.size(0)\n",
    "        correct += (outputs.argmax(1) == target).sum().item()\n",
    "\n",
    "    print('Accuracy of the network on the test images: %f' % (100 * correct / total), f\", L={L}\")\n",
    "    acc = 100 * correct / total\n",
    "    test_acc_s.append(acc)"
   ]
  }
 ],
 "metadata": {
  "kernelspec": {
   "display_name": "default",
   "language": "python",
   "name": "python3"
  },
  "language_info": {
   "codemirror_mode": {
    "name": "ipython",
    "version": 3
   },
   "file_extension": ".py",
   "mimetype": "text/x-python",
   "name": "python",
   "nbconvert_exporter": "python",
   "pygments_lexer": "ipython3",
   "version": "3.11.5"
  }
 },
 "nbformat": 4,
 "nbformat_minor": 2
}
